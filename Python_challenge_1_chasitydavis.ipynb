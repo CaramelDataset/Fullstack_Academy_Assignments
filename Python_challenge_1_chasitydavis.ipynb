{
 "cells": [
  {
   "cell_type": "code",
   "execution_count": 3,
   "id": "f22d1094-073d-4c35-ad21-3d7310db1324",
   "metadata": {},
   "outputs": [
    {
     "name": "stdout",
     "output_type": "stream",
     "text": [
      "Chasity Davis\n"
     ]
    }
   ],
   "source": [
    "#Print your full name in markdown text as the first line.\n",
    "print(\"Chasity Davis\")"
   ]
  },
  {
   "cell_type": "code",
   "execution_count": 4,
   "id": "0ff72157-c338-45b2-85d5-fbc17772db9a",
   "metadata": {},
   "outputs": [
    {
     "name": "stdout",
     "output_type": "stream",
     "text": [
      "The area of the square is \n",
      "4\n"
     ]
    }
   ],
   "source": [
    "#Calculate the area of the geometric figures. (See the formulas.) Option to use an input function. \n",
    "#Square (x^2)\n",
    "\n",
    "#Rectangle (b*h)\n",
    "\n",
    "#Triangle (1/2*b*h)\n",
    "\n",
    "#Ellipse (pi*a*b)\n",
    "\n",
    "#Trapezoid  (((a+b)/2)*h)\n",
    "\n",
    "x=2\n",
    "b=5\n",
    "h=3\n",
    "a=8\n",
    "\n",
    "print(\"The area of the square is \")\n",
    "print(x**2)"
   ]
  },
  {
   "cell_type": "code",
   "execution_count": 5,
   "id": "3042933a-a778-4fa1-be15-4b454c3e3731",
   "metadata": {},
   "outputs": [
    {
     "name": "stdout",
     "output_type": "stream",
     "text": [
      "The area of the rectangle is\n",
      "15\n"
     ]
    }
   ],
   "source": [
    "print(\"The area of the rectangle is\")\n",
    "print(b*h)"
   ]
  },
  {
   "cell_type": "code",
   "execution_count": 8,
   "id": "bbf07d41-8a10-479f-874d-4936a2d78a11",
   "metadata": {},
   "outputs": [
    {
     "name": "stdout",
     "output_type": "stream",
     "text": [
      "The area of the triangle is\n",
      "7.5\n"
     ]
    }
   ],
   "source": [
    "print(\"The area of the triangle is\")\n",
    "print((b*h)/2)"
   ]
  },
  {
   "cell_type": "code",
   "execution_count": 9,
   "id": "2eb747e6-f43a-41ce-82f3-42e1b1823446",
   "metadata": {},
   "outputs": [
    {
     "name": "stdout",
     "output_type": "stream",
     "text": [
      "The area of the ellipse is\n"
     ]
    },
    {
     "ename": "NameError",
     "evalue": "name 'π' is not defined",
     "output_type": "error",
     "traceback": [
      "\u001b[0;31m---------------------------------------------------------------------------\u001b[0m",
      "\u001b[0;31mNameError\u001b[0m                                 Traceback (most recent call last)",
      "Cell \u001b[0;32mIn[9], line 2\u001b[0m\n\u001b[1;32m      1\u001b[0m \u001b[38;5;28mprint\u001b[39m(\u001b[38;5;124m\"\u001b[39m\u001b[38;5;124mThe area of the ellipse is\u001b[39m\u001b[38;5;124m\"\u001b[39m)\n\u001b[0;32m----> 2\u001b[0m \u001b[38;5;28mprint\u001b[39m(\u001b[43mπ\u001b[49m\u001b[38;5;241m*\u001b[39ma\u001b[38;5;241m*\u001b[39mb)\n",
      "\u001b[0;31mNameError\u001b[0m: name 'π' is not defined"
     ]
    }
   ],
   "source": [
    "print(\"The area of the ellipse is\")\n",
    "print(π*a*b)"
   ]
  },
  {
   "cell_type": "code",
   "execution_count": 10,
   "id": "d0a97363-7afe-4d0f-a438-18c8c4455571",
   "metadata": {},
   "outputs": [
    {
     "name": "stdout",
     "output_type": "stream",
     "text": [
      "The area of the trapezoid is\n",
      "19.5\n"
     ]
    }
   ],
   "source": [
    "print(\"The area of the trapezoid is\")\n",
    "print(((a+b)/2)*h)"
   ]
  },
  {
   "cell_type": "code",
   "execution_count": 2,
   "id": "f440d04c-d204-4f13-8a66-42dede5ed2a6",
   "metadata": {},
   "outputs": [],
   "source": [
    "#**Bonus** Import the math library and give it the alias m.\n",
    "#**Create a variable called ‘angle’ and assign it a value of 45.\n",
    "#**Create a variable called ‘rad_angle’ and use a math function to determine what 45 degrees is in radians. \n",
    "#**Calculate the sine of rad_angle.\n",
    "#**Calculate the cosine of rad_angle.\n",
    "#**Calculate the square root of 256.\n",
    "#**Calculate 4 raised to the 5th power.\n",
    "\n",
    "import math as m\n"
   ]
  },
  {
   "cell_type": "code",
   "execution_count": null,
   "id": "28a3fba2-b998-4944-bc8f-b5f95f95c8f5",
   "metadata": {},
   "outputs": [],
   "source": []
  }
 ],
 "metadata": {
  "kernelspec": {
   "display_name": "Python 3 (ipykernel)",
   "language": "python",
   "name": "python3"
  },
  "language_info": {
   "codemirror_mode": {
    "name": "ipython",
    "version": 3
   },
   "file_extension": ".py",
   "mimetype": "text/x-python",
   "name": "python",
   "nbconvert_exporter": "python",
   "pygments_lexer": "ipython3",
   "version": "3.10.9"
  }
 },
 "nbformat": 4,
 "nbformat_minor": 5
}
