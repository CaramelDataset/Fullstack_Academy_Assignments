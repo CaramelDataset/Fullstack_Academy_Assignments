{
 "cells": [
  {
   "cell_type": "markdown",
   "id": "763adb6a-739d-49b2-9a22-9954aa8da8b6",
   "metadata": {},
   "source": [
    "# Create an IF code block with the following elements:\n",
    "weevil_a has a value of 65.\n",
    "weevil_b has a value of 150.\n",
    "create an if statement: If weevil_a  is less than weevil_b then print \"weevil_a is the lesser of two weevils\".\n",
    "add an 'elif' statement for the condition where weevil_b is smaller.\n",
    "add an 'else' for the condition that they are equal. "
   ]
  },
  {
   "cell_type": "code",
   "execution_count": 3,
   "id": "8a58b431-97ed-4988-9bd8-33231ffb8706",
   "metadata": {},
   "outputs": [
    {
     "name": "stdout",
     "output_type": "stream",
     "text": [
      "Weevil_a is the lesser of two weevils.\n"
     ]
    }
   ],
   "source": [
    "weevil_a = 65\n",
    "weevil_b = 150\n",
    "\n",
    "if weevil_a < weevil_b:\n",
    "    print('Weevil_a is the lesser of two weevils.')\n",
    "elif weevil_b < weevil_a:\n",
    "    print('Weevil_b is the lesser of two weevils.')\n",
    "else:\n",
    "    print('Both weevils are equal.')"
   ]
  },
  {
   "cell_type": "code",
   "execution_count": 17,
   "id": "cd7ce6fe-47f4-4f57-903e-3320bdec8343",
   "metadata": {},
   "outputs": [
    {
     "name": "stdout",
     "output_type": "stream",
     "text": [
      "Weevil_a is the lesser of two weevils.\n"
     ]
    }
   ],
   "source": [
    "#Valerie's code\n",
    "weevil_a = 65\n",
    "weevil_b = 150\n",
    "\n",
    "if weevil_a < weevil_b:\n",
    "    print('Weevil_a is the lesser of two weevils.')\n",
    "elif weevil_a != weevil_b:\n",
    "    print('Weevil_b is the lesser of two weevils.')\n",
    "else:\n",
    "    print('Both weevils are equal.')"
   ]
  },
  {
   "cell_type": "markdown",
   "id": "783146d9-0d2c-4a56-b3ce-37347fa7bebe",
   "metadata": {},
   "source": [
    "# Create a WHILE code block using the AND operator with the following elements:\n",
    "x = 1\n",
    "while x < 25 execute the following logic:\n",
    "print x\n",
    "IF x > 12  AND x < 20, print the statement \"the troubled teen years\". \n",
    "increment x by 1 "
   ]
  },
  {
   "cell_type": "code",
   "execution_count": 18,
   "id": "8361643f-385d-4d8e-a356-2e40d0878f48",
   "metadata": {},
   "outputs": [
    {
     "name": "stdout",
     "output_type": "stream",
     "text": [
      "1\n",
      "2\n",
      "3\n",
      "4\n",
      "5\n",
      "6\n",
      "7\n",
      "8\n",
      "9\n",
      "10\n",
      "11\n",
      "12\n",
      "The troubled teen years.\n",
      "The troubled teen years.\n",
      "The troubled teen years.\n",
      "The troubled teen years.\n",
      "The troubled teen years.\n",
      "The troubled teen years.\n",
      "The troubled teen years.\n",
      "20\n",
      "21\n",
      "22\n",
      "23\n",
      "24\n"
     ]
    }
   ],
   "source": [
    "x = 1\n",
    "\n",
    "while x < 25:\n",
    "    if x <= 12:\n",
    "        print(x)\n",
    "    elif x > 12 and x < 20:\n",
    "        print('The troubled teen years.')\n",
    "    else: \n",
    "        print(x)\n",
    "    x += 1"
   ]
  },
  {
   "cell_type": "code",
   "execution_count": null,
   "id": "e23320f0-8761-4865-b0ce-e9fb83c386ae",
   "metadata": {},
   "outputs": [],
   "source": []
  },
  {
   "cell_type": "markdown",
   "id": "21c6be95-140e-4a22-8add-e89e91ff027d",
   "metadata": {},
   "source": [
    "# Create a FOR loop with the following elements:\n",
    "Create a list of grocery items (e.g. groceries = ['bread', 'milk', etc...]).\n",
    "Iterate through the list using a FOR loop and a variable 'item'.\n",
    "Print \"I forgot the \" and then the item in the list (e.g. \"I forgot the bread\").\n",
    "add an IF block inside the FOR loop that checks if the item == 'kale' and print \"nobody likes kale, anyway\"."
   ]
  },
  {
   "cell_type": "code",
   "execution_count": 20,
   "id": "71884d02-a805-442d-abd3-dc28489332c3",
   "metadata": {},
   "outputs": [
    {
     "name": "stdout",
     "output_type": "stream",
     "text": [
      "I forgot the milk\n",
      "I forgot the eggs\n",
      "I forgot the water\n",
      "Nobody likes Kale, anyway\n",
      "I forgot the butter\n",
      "I forgot the spinach\n"
     ]
    }
   ],
   "source": [
    "groceries = ['milk', 'eggs', 'water', 'kale','butter', 'spinach']\n",
    "\n",
    "for item in groceries:\n",
    "    if item == 'kale':\n",
    "        print('Nobody likes Kale, anyway')\n",
    "        continue\n",
    "    print('I forgot the ' + item)"
   ]
  },
  {
   "cell_type": "code",
   "execution_count": 23,
   "id": "8eebf4b4-0ccf-4d15-94ff-992b5557e886",
   "metadata": {},
   "outputs": [
    {
     "name": "stdout",
     "output_type": "stream",
     "text": [
      "I forgot the milk\n",
      "I forgot the eggs\n",
      "I forgot the water\n",
      "I forgot the kale\n",
      "Nobody likes Kale, anyway\n",
      "I forgot the butter\n",
      "I forgot the spinach\n"
     ]
    }
   ],
   "source": [
    "groceries = ['milk', 'eggs', 'water', 'kale','butter', 'spinach']\n",
    "\n",
    "for item in groceries:\n",
    "    print('I forgot the ' + item)\n",
    "    if item == 'kale':\n",
    "        print('Nobody likes Kale, anyway')"
   ]
  },
  {
   "cell_type": "code",
   "execution_count": null,
   "id": "bfa1fd52-25af-4dd9-b521-4a2860939dc3",
   "metadata": {},
   "outputs": [],
   "source": []
  },
  {
   "cell_type": "code",
   "execution_count": null,
   "id": "5c25c9e2-5304-4e51-a259-fec3ebd47ec9",
   "metadata": {},
   "outputs": [],
   "source": []
  }
 ],
 "metadata": {
  "kernelspec": {
   "display_name": "Python 3 (ipykernel)",
   "language": "python",
   "name": "python3"
  },
  "language_info": {
   "codemirror_mode": {
    "name": "ipython",
    "version": 3
   },
   "file_extension": ".py",
   "mimetype": "text/x-python",
   "name": "python",
   "nbconvert_exporter": "python",
   "pygments_lexer": "ipython3",
   "version": "3.10.9"
  }
 },
 "nbformat": 4,
 "nbformat_minor": 5
}
