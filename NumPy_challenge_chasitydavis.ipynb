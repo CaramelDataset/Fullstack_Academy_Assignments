{
 "cells": [
  {
   "cell_type": "markdown",
   "id": "b18edc5d-33c5-435b-b1ad-4b314922dbdd",
   "metadata": {},
   "source": [
    "# NumPy Assessment"
   ]
  },
  {
   "cell_type": "markdown",
   "id": "f4f239f5-fda7-4022-a91e-53a1364ccf02",
   "metadata": {},
   "source": [
    "#### Create a numpy array called ‘height in inches’ from a list 10 of numbers: [66, 68, 71, 64, 61, 74, 64, 65, 70, 71]. Create a new array called ‘height_in_feet’ and make its values equal to the values in the first array divided by 12."
   ]
  },
  {
   "cell_type": "code",
   "execution_count": 1,
   "id": "a8bae845-3b0c-47ec-9002-1b86bddd8ad4",
   "metadata": {},
   "outputs": [],
   "source": [
    "import numpy as np"
   ]
  },
  {
   "cell_type": "code",
   "execution_count": 20,
   "id": "85ba2282-0437-422b-8199-6bdca5b06654",
   "metadata": {},
   "outputs": [
    {
     "name": "stdout",
     "output_type": "stream",
     "text": [
      "[5.5        5.66666667 5.91666667 5.33333333 5.08333333 6.16666667\n",
      " 5.33333333 5.41666667 5.83333333 5.91666667]\n"
     ]
    }
   ],
   "source": [
    "height_in_inches = np.array([66, 68, 71, 64, 61, 74, 64, 65, 70, 71], dtype='int')\n",
    "divisor = 12\n",
    "height_in_feet = height_in_inches/divisor\n",
    "\n",
    "print(height_in_feet)"
   ]
  },
  {
   "cell_type": "markdown",
   "id": "4dd4b7af-c9ca-48d2-a118-0e270d18c886",
   "metadata": {},
   "source": [
    "#### Create a 5x5 array of zeros."
   ]
  },
  {
   "cell_type": "code",
   "execution_count": 25,
   "id": "42649955-8d03-40a6-99fa-bf7aedc2eb84",
   "metadata": {},
   "outputs": [
    {
     "name": "stdout",
     "output_type": "stream",
     "text": [
      "[[0. 0. 0. 0. 0.]\n",
      " [0. 0. 0. 0. 0.]\n",
      " [0. 0. 0. 0. 0.]\n",
      " [0. 0. 0. 0. 0.]\n",
      " [0. 0. 0. 0. 0.]]\n"
     ]
    }
   ],
   "source": [
    "a = np.zeros([5,5])\n",
    "print(a)"
   ]
  },
  {
   "cell_type": "markdown",
   "id": "d3d246b0-0a56-44fa-beb3-757d29f87ead",
   "metadata": {},
   "source": [
    "#### Create an array of random floating point numbers between 0 and 100."
   ]
  },
  {
   "cell_type": "code",
   "execution_count": 106,
   "id": "5285aa0d-6705-4b7b-8325-0e464c7d490e",
   "metadata": {},
   "outputs": [
    {
     "name": "stdout",
     "output_type": "stream",
     "text": [
      "[70 66 28 71 61 19 92 67 83 72]\n"
     ]
    }
   ],
   "source": [
    "b = np.random.randint(low=0.0, high=100.0, size=(10))\n",
    "print(b)"
   ]
  },
  {
   "cell_type": "markdown",
   "id": "0b50dcee-674f-4ef8-b754-dd8c965a6656",
   "metadata": {},
   "source": [
    "#### Create an array of numbers from 0 to 75 in increments of 5."
   ]
  },
  {
   "cell_type": "code",
   "execution_count": 75,
   "id": "d45d1f8f-ad06-4e10-80c2-c6dfdfdc02db",
   "metadata": {},
   "outputs": [
    {
     "name": "stdout",
     "output_type": "stream",
     "text": [
      "[ 0  5 10 15 20 25 30 35 40 45 50 55 60 65 70]\n"
     ]
    }
   ],
   "source": [
    "c = np.arange(0,75,5)\n",
    "print(c)"
   ]
  }
 ],
 "metadata": {
  "kernelspec": {
   "display_name": "Python 3 (ipykernel)",
   "language": "python",
   "name": "python3"
  },
  "language_info": {
   "codemirror_mode": {
    "name": "ipython",
    "version": 3
   },
   "file_extension": ".py",
   "mimetype": "text/x-python",
   "name": "python",
   "nbconvert_exporter": "python",
   "pygments_lexer": "ipython3",
   "version": "3.10.9"
  }
 },
 "nbformat": 4,
 "nbformat_minor": 5
}
