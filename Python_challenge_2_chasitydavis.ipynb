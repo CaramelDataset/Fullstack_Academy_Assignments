{
 "cells": [
  {
   "cell_type": "markdown",
   "id": "eb36c424-3853-4e0c-9513-8aad62a57259",
   "metadata": {},
   "source": [
    "\n",
    "# Python Challenge #2: Create basic calculations\n"
   ]
  },
  {
   "cell_type": "code",
   "execution_count": 1,
   "id": "c279ed96-1180-4308-bc81-40a02c006331",
   "metadata": {},
   "outputs": [
    {
     "name": "stdout",
     "output_type": "stream",
     "text": [
      "9\n"
     ]
    }
   ],
   "source": [
    "#Add two integers together. \n",
    "#What is the result?\n",
    "\n",
    "print(2+7)"
   ]
  },
  {
   "cell_type": "code",
   "execution_count": 2,
   "id": "97aa599b-6100-4368-80f1-ece073290141",
   "metadata": {},
   "outputs": [
    {
     "name": "stdout",
     "output_type": "stream",
     "text": [
      "5\n"
     ]
    }
   ],
   "source": [
    "#Subtract two integers. \n",
    "#What is the result?\n",
    "\n",
    "print(7-2)"
   ]
  },
  {
   "cell_type": "code",
   "execution_count": 3,
   "id": "533d0e79-aa3e-4db0-8860-84f5c1b740b7",
   "metadata": {},
   "outputs": [
    {
     "name": "stdout",
     "output_type": "stream",
     "text": [
      "3\n"
     ]
    }
   ],
   "source": [
    "#Divide two values. Have the result be an integer by using floor division. \n",
    "#What is the result?\n",
    "\n",
    "print(7//2)"
   ]
  },
  {
   "cell_type": "code",
   "execution_count": 4,
   "id": "297e1170-d1a8-467c-99bf-1c1ad81014e7",
   "metadata": {},
   "outputs": [
    {
     "name": "stdout",
     "output_type": "stream",
     "text": [
      "15\n"
     ]
    }
   ],
   "source": [
    "#Create a variable ‘x’, have it’s value be 10+5. Print ‘x’. \n",
    "#What is the result?\n",
    "\n",
    "x=10+5\n",
    "print(x)"
   ]
  },
  {
   "cell_type": "code",
   "execution_count": 5,
   "id": "3783891f-476b-4d82-9de3-4d7383576576",
   "metadata": {},
   "outputs": [
    {
     "name": "stdout",
     "output_type": "stream",
     "text": [
      "Hello Gorl\n"
     ]
    }
   ],
   "source": [
    "#Create two strings and combine them using the + operator. \n",
    "#What was the result?\n",
    "\n",
    "a=\"Hello \"\n",
    "b=\"Gorl\"\n",
    "print(a+b)"
   ]
  },
  {
   "cell_type": "code",
   "execution_count": 11,
   "id": "2a7316b6-1e77-476b-8385-ae97989d50d8",
   "metadata": {},
   "outputs": [
    {
     "name": "stdout",
     "output_type": "stream",
     "text": [
      "program\n"
     ]
    }
   ],
   "source": [
    "#Create variable ‘y’ and have the value be ‘program’. Omit letters o and g. Print the result.\n",
    "\n",
    "y=\"program\"\n",
    "print(y)"
   ]
  },
  {
   "cell_type": "code",
   "execution_count": 24,
   "id": "babfe3b1-fd41-4a84-ba97-dc43c763316d",
   "metadata": {},
   "outputs": [
    {
     "name": "stdout",
     "output_type": "stream",
     "text": [
      "12\n",
      "['February', 'March', 'April']\n"
     ]
    }
   ],
   "source": [
    "#Create a list called ‘calendar_months’.\n",
    "#How long is the list?\n",
    "#Print only February, March, and April.\n",
    "\n",
    "calendar_months=[\"January\",\"February\",\"March\",\"April\",\"May\",\"June\",\"July\",\"August\",\"September\",\"October\",\"November\",\"December\"]\n",
    "\n",
    "print(len(calendar_months))\n",
    "print(calendar_months[1:4])"
   ]
  },
  {
   "cell_type": "code",
   "execution_count": 30,
   "id": "92378b33-e7ea-4eb7-bb6a-388802b360ce",
   "metadata": {},
   "outputs": [
    {
     "name": "stdout",
     "output_type": "stream",
     "text": [
      "['happy', 'sad', 'grateful', 'contrite', 'existential', 'smile', 'gripe', 'pray', 'scowl', 'gaze']\n",
      "['happy', 'sad', 'grateful', 'existential', 'smile', 'gripe', 'pray', 'scowl', 'gaze']\n"
     ]
    }
   ],
   "source": [
    "#Create a sample list of your choice, using string variables. \n",
    "#Create a second sample list of your choice, using string variables. \n",
    "#Create a third list that concats the two sample lists you created above.\n",
    "#Remove one item from the third list. \n",
    "\n",
    "Emotions=[\"happy\",\"sad\",\"grateful\",\"contrite\",\"existential\"]\n",
    "Reactions=[\"smile\",\"gripe\",\"pray\",\"scowl\",\"gaze\"]\n",
    "Human_Nature=Emotions+Reactions\n",
    "print(Human_Nature)\n",
    "del Human_Nature[3]\n",
    "print(Human_Nature)"
   ]
  },
  {
   "cell_type": "code",
   "execution_count": 33,
   "id": "446f3955-bc6f-4b8f-b63c-c04977b2f2ca",
   "metadata": {},
   "outputs": [
    {
     "name": "stdout",
     "output_type": "stream",
     "text": [
      "4\n"
     ]
    }
   ],
   "source": [
    "#Create a dictionary that has four keys and assign those keys values. \n",
    "#What is the length of the dictionary?\n",
    "\n",
    "Chasity_Dictionary={1:\"yes\",2:\"no\",3:\"maybe\",4:\"undecided\"}\n",
    "print(len(Chasity_Dictionary))"
   ]
  },
  {
   "cell_type": "code",
   "execution_count": null,
   "id": "563cf92b-0456-4c4e-99ec-9ae4ca99618a",
   "metadata": {},
   "outputs": [],
   "source": []
  }
 ],
 "metadata": {
  "kernelspec": {
   "display_name": "Python 3 (ipykernel)",
   "language": "python",
   "name": "python3"
  },
  "language_info": {
   "codemirror_mode": {
    "name": "ipython",
    "version": 3
   },
   "file_extension": ".py",
   "mimetype": "text/x-python",
   "name": "python",
   "nbconvert_exporter": "python",
   "pygments_lexer": "ipython3",
   "version": "3.10.9"
  }
 },
 "nbformat": 4,
 "nbformat_minor": 5
}
