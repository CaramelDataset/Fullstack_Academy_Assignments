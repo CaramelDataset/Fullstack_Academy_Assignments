{
 "cells": [
  {
   "cell_type": "markdown",
   "id": "effea360-737d-4b05-9ec2-801cab99a8eb",
   "metadata": {},
   "source": [
    "1. Create a function that takes the height of a building (in feet) and returns how many stories (floors).  The math is stories=height//10\n",
    "Use the function to calculate how many stories are in a 259 foot building\n",
    "\n",
    "2. Create a lambda function that takes one parameter (a) and returns a*a*a.\n",
    "\n",
    "3. Create a list of numbers called 'numbers', then use the map function with your lambda function to create a new list called 'cubes'\n",
    "\n",
    "4. Create a class called house and give it an attribute num_bedrooms.\n",
    "Give the class a method called how_many_bedrooms()\n",
    "\n",
    "5. Create an instantiation (object) of house called my_house with 2 bedrooms.\n",
    "Ask the my_house object how many bedrooms it has.\n",
    "\n",
    "6. Create another instantiation of house called white_house with 16 bedrooms"
   ]
  },
  {
   "cell_type": "markdown",
   "id": "90c72cd9-5732-4f83-b9aa-6296127fe864",
   "metadata": {},
   "source": [
    "Example from class"
   ]
  },
  {
   "cell_type": "code",
   "execution_count": null,
   "id": "c10630ff-1bdf-468c-bc73-4379521982ca",
   "metadata": {},
   "outputs": [],
   "source": [
    "def energy_calc(m):\n",
    "    c=3.0e8\n",
    "    result = m * c**2\n",
    "    return result\n",
    "energy_calc(1.4)"
   ]
  },
  {
   "cell_type": "markdown",
   "id": "654df95c-250b-4921-a550-a23301ca1f23",
   "metadata": {},
   "source": [
    "1. Challenge answer"
   ]
  },
  {
   "cell_type": "code",
   "execution_count": 4,
   "id": "91e9d001-5159-466f-8466-f4515107bbfa",
   "metadata": {},
   "outputs": [
    {
     "data": {
      "text/plain": [
       "25"
      ]
     },
     "execution_count": 4,
     "metadata": {},
     "output_type": "execute_result"
    }
   ],
   "source": [
    "def building_height(height):\n",
    "    result = height//10\n",
    "    return result\n",
    "building_height(259)"
   ]
  },
  {
   "cell_type": "markdown",
   "id": "0929bb2f-36a7-4781-b04a-907bf420fa93",
   "metadata": {},
   "source": [
    "Example from class"
   ]
  },
  {
   "cell_type": "code",
   "execution_count": 1,
   "id": "798f621c-173a-4952-9481-8061aa3d0755",
   "metadata": {},
   "outputs": [
    {
     "name": "stdout",
     "output_type": "stream",
     "text": [
      "[1.248, 2.418, 0.819, 2.34, 2.145]\n"
     ]
    }
   ],
   "source": [
    "mm_measure = [32, 62, 21, 60, 55]\n",
    "in_measure = list(map(lambda mm: mm*0.039, mm_measure))\n",
    "print(in_measure)"
   ]
  },
  {
   "cell_type": "markdown",
   "id": "34d4f958-f074-43dd-813b-ec55344e9a20",
   "metadata": {},
   "source": [
    "2. Challenge answer"
   ]
  },
  {
   "cell_type": "code",
   "execution_count": 27,
   "id": "af6f3f5f-4971-481e-a98e-6b761febc5d6",
   "metadata": {},
   "outputs": [
    {
     "data": {
      "text/plain": [
       "<function __main__.<lambda>(a)>"
      ]
     },
     "execution_count": 27,
     "metadata": {},
     "output_type": "execute_result"
    }
   ],
   "source": [
    "lambda a: a**3"
   ]
  },
  {
   "cell_type": "markdown",
   "id": "4c082150-3d66-4c4a-ba82-7e72478c73d1",
   "metadata": {},
   "source": [
    "3. Challenge answer"
   ]
  },
  {
   "cell_type": "code",
   "execution_count": 6,
   "id": "8e3a6a34-6b6f-4b32-96f8-3a7b07bb1e0a",
   "metadata": {},
   "outputs": [
    {
     "name": "stdout",
     "output_type": "stream",
     "text": [
      "[8, 64, 216, 512]\n"
     ]
    }
   ],
   "source": [
    "numbers = [2,4,6,8]\n",
    "cubes = list(map(lambda n: n**3, numbers))\n",
    "print(cubes)"
   ]
  },
  {
   "cell_type": "markdown",
   "id": "1311060f-83cb-423d-a07e-c2d63a2ae646",
   "metadata": {},
   "source": [
    "Example from class"
   ]
  },
  {
   "cell_type": "code",
   "execution_count": null,
   "id": "d31e19b1-1b77-49f6-b1ee-23e0167c1785",
   "metadata": {},
   "outputs": [],
   "source": [
    "class product:\n",
    "    \n",
    "    def __init__(self, name, category, price):  \n",
    "        self.name = name\n",
    "        self.category = category\n",
    "        self.price = price\n",
    "        \n",
    "    def get_price(self):\n",
    "        return(self.price)\n",
    "    \n",
    "        \n",
    "tea=product(\"tea\",\"beverage\",6.99)\n",
    "\n",
    "print(tea.name, \"costs\", tea.price)\n",
    "\n",
    "print(tea.get_price())"
   ]
  },
  {
   "cell_type": "markdown",
   "id": "4e61b364-d157-4c05-abdf-d59c01e6624b",
   "metadata": {},
   "source": [
    "4. Challenge answer"
   ]
  },
  {
   "cell_type": "code",
   "execution_count": 20,
   "id": "0128e4a0-981c-4237-8a66-406ff6061288",
   "metadata": {},
   "outputs": [],
   "source": [
    "class house:\n",
    "    def __init__ (self, num_bedrooms):\n",
    "        self.num_bedrooms = num_bedrooms\n",
    "    \n",
    "    def how_many_bedrooms(self):\n",
    "        return(self.num_bedrooms)"
   ]
  },
  {
   "cell_type": "markdown",
   "id": "3053803e-b525-4e73-a810-1addde364e04",
   "metadata": {},
   "source": [
    "5. Challenge answer"
   ]
  },
  {
   "cell_type": "code",
   "execution_count": 25,
   "id": "95cd3746-dc64-405f-8ea6-a6f52acbcf9d",
   "metadata": {},
   "outputs": [
    {
     "name": "stdout",
     "output_type": "stream",
     "text": [
      "2\n"
     ]
    }
   ],
   "source": [
    "my_house=house(2)\n",
    "\n",
    "print(my_house.how_many_bedrooms())"
   ]
  },
  {
   "cell_type": "markdown",
   "id": "589ce495-0d7a-4270-bb0e-60b9566524f8",
   "metadata": {},
   "source": [
    "6. Challenge answer"
   ]
  },
  {
   "cell_type": "code",
   "execution_count": 28,
   "id": "770350da-9727-498b-9bc6-ac2771574a72",
   "metadata": {},
   "outputs": [
    {
     "name": "stdout",
     "output_type": "stream",
     "text": [
      "16\n"
     ]
    }
   ],
   "source": [
    "white_house=house(16)\n",
    "\n",
    "print(white_house.how_many_bedrooms())"
   ]
  },
  {
   "cell_type": "code",
   "execution_count": null,
   "id": "53da82dc-337c-4d93-8455-e8e79244b2ee",
   "metadata": {},
   "outputs": [],
   "source": []
  }
 ],
 "metadata": {
  "kernelspec": {
   "display_name": "Python 3 (ipykernel)",
   "language": "python",
   "name": "python3"
  },
  "language_info": {
   "codemirror_mode": {
    "name": "ipython",
    "version": 3
   },
   "file_extension": ".py",
   "mimetype": "text/x-python",
   "name": "python",
   "nbconvert_exporter": "python",
   "pygments_lexer": "ipython3",
   "version": "3.10.9"
  }
 },
 "nbformat": 4,
 "nbformat_minor": 5
}
