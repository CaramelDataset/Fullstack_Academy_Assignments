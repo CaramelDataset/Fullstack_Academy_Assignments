{
 "cells": [
  {
   "cell_type": "code",
   "execution_count": 1,
   "id": "58a75976-729c-4b76-b740-5c4db16def43",
   "metadata": {},
   "outputs": [],
   "source": [
    "import pandas as pd"
   ]
  },
  {
   "cell_type": "markdown",
   "id": "c6f5c786-b4c6-4c3e-aa77-1c5b4db6cb29",
   "metadata": {},
   "source": [
    "# Import csv file"
   ]
  },
  {
   "cell_type": "code",
   "execution_count": 2,
   "id": "4e5b946b-638e-4a88-888e-76b3e54d0deb",
   "metadata": {},
   "outputs": [],
   "source": [
    "data = pd.read_csv(r\"/Users/Private/Downloads/busan-air-quality.csv\")"
   ]
  },
  {
   "cell_type": "markdown",
   "id": "441a1ecc-c4e2-4094-9ae7-9581b9c5da7c",
   "metadata": {},
   "source": [
    "# See data snapshot"
   ]
  },
  {
   "cell_type": "code",
   "execution_count": 3,
   "id": "cd3ccad2-a150-40a2-aed6-474668d11ac7",
   "metadata": {},
   "outputs": [
    {
     "data": {
      "text/html": [
       "<div>\n",
       "<style scoped>\n",
       "    .dataframe tbody tr th:only-of-type {\n",
       "        vertical-align: middle;\n",
       "    }\n",
       "\n",
       "    .dataframe tbody tr th {\n",
       "        vertical-align: top;\n",
       "    }\n",
       "\n",
       "    .dataframe thead th {\n",
       "        text-align: right;\n",
       "    }\n",
       "</style>\n",
       "<table border=\"1\" class=\"dataframe\">\n",
       "  <thead>\n",
       "    <tr style=\"text-align: right;\">\n",
       "      <th></th>\n",
       "      <th>date</th>\n",
       "      <th>pm25</th>\n",
       "      <th>pm10</th>\n",
       "      <th>o3</th>\n",
       "      <th>no2</th>\n",
       "      <th>so2</th>\n",
       "      <th>co</th>\n",
       "    </tr>\n",
       "  </thead>\n",
       "  <tbody>\n",
       "    <tr>\n",
       "      <th>0</th>\n",
       "      <td>2015/01/03</td>\n",
       "      <td>89</td>\n",
       "      <td>60</td>\n",
       "      <td>na</td>\n",
       "      <td>55</td>\n",
       "      <td>22</td>\n",
       "      <td>45</td>\n",
       "    </tr>\n",
       "    <tr>\n",
       "      <th>1</th>\n",
       "      <td>2015/01/04</td>\n",
       "      <td>113</td>\n",
       "      <td>97</td>\n",
       "      <td>na</td>\n",
       "      <td>66</td>\n",
       "      <td>46</td>\n",
       "      <td>37</td>\n",
       "    </tr>\n",
       "    <tr>\n",
       "      <th>2</th>\n",
       "      <td>2015/01/05</td>\n",
       "      <td>153</td>\n",
       "      <td>50</td>\n",
       "      <td>na</td>\n",
       "      <td>29</td>\n",
       "      <td>18</td>\n",
       "      <td>8</td>\n",
       "    </tr>\n",
       "    <tr>\n",
       "      <th>3</th>\n",
       "      <td>2015/01/06</td>\n",
       "      <td>101</td>\n",
       "      <td>37</td>\n",
       "      <td>na</td>\n",
       "      <td>73</td>\n",
       "      <td>36</td>\n",
       "      <td>38</td>\n",
       "    </tr>\n",
       "    <tr>\n",
       "      <th>4</th>\n",
       "      <td>2015/01/07</td>\n",
       "      <td>85</td>\n",
       "      <td>64</td>\n",
       "      <td>na</td>\n",
       "      <td>81</td>\n",
       "      <td>40</td>\n",
       "      <td>41</td>\n",
       "    </tr>\n",
       "    <tr>\n",
       "      <th>...</th>\n",
       "      <td>...</td>\n",
       "      <td>...</td>\n",
       "      <td>...</td>\n",
       "      <td>...</td>\n",
       "      <td>...</td>\n",
       "      <td>...</td>\n",
       "      <td>...</td>\n",
       "    </tr>\n",
       "    <tr>\n",
       "      <th>2849</th>\n",
       "      <td>2022/12/27</td>\n",
       "      <td>76</td>\n",
       "      <td>47</td>\n",
       "      <td>28</td>\n",
       "      <td>32</td>\n",
       "      <td>3</td>\n",
       "      <td>3</td>\n",
       "    </tr>\n",
       "    <tr>\n",
       "      <th>2850</th>\n",
       "      <td>2022/12/28</td>\n",
       "      <td>101</td>\n",
       "      <td>40</td>\n",
       "      <td>27</td>\n",
       "      <td>25</td>\n",
       "      <td>4</td>\n",
       "      <td>3</td>\n",
       "    </tr>\n",
       "    <tr>\n",
       "      <th>2851</th>\n",
       "      <td>2022/12/29</td>\n",
       "      <td>85</td>\n",
       "      <td>46</td>\n",
       "      <td>28</td>\n",
       "      <td>33</td>\n",
       "      <td>3</td>\n",
       "      <td>3</td>\n",
       "    </tr>\n",
       "    <tr>\n",
       "      <th>2852</th>\n",
       "      <td>2022/12/30</td>\n",
       "      <td>102</td>\n",
       "      <td>37</td>\n",
       "      <td>30</td>\n",
       "      <td>24</td>\n",
       "      <td>3</td>\n",
       "      <td>3</td>\n",
       "    </tr>\n",
       "    <tr>\n",
       "      <th>2853</th>\n",
       "      <td>2022/12/31</td>\n",
       "      <td>86</td>\n",
       "      <td>50</td>\n",
       "      <td>38</td>\n",
       "      <td>25</td>\n",
       "      <td>5</td>\n",
       "      <td>4</td>\n",
       "    </tr>\n",
       "  </tbody>\n",
       "</table>\n",
       "<p>2854 rows × 7 columns</p>\n",
       "</div>"
      ],
      "text/plain": [
       "            date pm25 pm10  o3 no2 so2  co\n",
       "0     2015/01/03   89   60  na  55  22  45\n",
       "1     2015/01/04  113   97  na  66  46  37\n",
       "2     2015/01/05  153   50  na  29  18   8\n",
       "3     2015/01/06  101   37  na  73  36  38\n",
       "4     2015/01/07   85   64  na  81  40  41\n",
       "...          ...  ...  ...  ..  ..  ..  ..\n",
       "2849  2022/12/27   76   47  28  32   3   3\n",
       "2850  2022/12/28  101   40  27  25   4   3\n",
       "2851  2022/12/29   85   46  28  33   3   3\n",
       "2852  2022/12/30  102   37  30  24   3   3\n",
       "2853  2022/12/31   86   50  38  25   5   4\n",
       "\n",
       "[2854 rows x 7 columns]"
      ]
     },
     "execution_count": 3,
     "metadata": {},
     "output_type": "execute_result"
    }
   ],
   "source": [
    "data"
   ]
  },
  {
   "cell_type": "markdown",
   "id": "97c07e8d-5ba1-4c43-95bc-c68fdb4e005f",
   "metadata": {},
   "source": [
    "# See first 5 rows of data"
   ]
  },
  {
   "cell_type": "code",
   "execution_count": 4,
   "id": "ac6c685d-70a9-49b9-9f3a-e4146fd83dde",
   "metadata": {},
   "outputs": [
    {
     "data": {
      "text/html": [
       "<div>\n",
       "<style scoped>\n",
       "    .dataframe tbody tr th:only-of-type {\n",
       "        vertical-align: middle;\n",
       "    }\n",
       "\n",
       "    .dataframe tbody tr th {\n",
       "        vertical-align: top;\n",
       "    }\n",
       "\n",
       "    .dataframe thead th {\n",
       "        text-align: right;\n",
       "    }\n",
       "</style>\n",
       "<table border=\"1\" class=\"dataframe\">\n",
       "  <thead>\n",
       "    <tr style=\"text-align: right;\">\n",
       "      <th></th>\n",
       "      <th>date</th>\n",
       "      <th>pm25</th>\n",
       "      <th>pm10</th>\n",
       "      <th>o3</th>\n",
       "      <th>no2</th>\n",
       "      <th>so2</th>\n",
       "      <th>co</th>\n",
       "    </tr>\n",
       "  </thead>\n",
       "  <tbody>\n",
       "    <tr>\n",
       "      <th>0</th>\n",
       "      <td>2015/01/03</td>\n",
       "      <td>89</td>\n",
       "      <td>60</td>\n",
       "      <td>na</td>\n",
       "      <td>55</td>\n",
       "      <td>22</td>\n",
       "      <td>45</td>\n",
       "    </tr>\n",
       "    <tr>\n",
       "      <th>1</th>\n",
       "      <td>2015/01/04</td>\n",
       "      <td>113</td>\n",
       "      <td>97</td>\n",
       "      <td>na</td>\n",
       "      <td>66</td>\n",
       "      <td>46</td>\n",
       "      <td>37</td>\n",
       "    </tr>\n",
       "    <tr>\n",
       "      <th>2</th>\n",
       "      <td>2015/01/05</td>\n",
       "      <td>153</td>\n",
       "      <td>50</td>\n",
       "      <td>na</td>\n",
       "      <td>29</td>\n",
       "      <td>18</td>\n",
       "      <td>8</td>\n",
       "    </tr>\n",
       "    <tr>\n",
       "      <th>3</th>\n",
       "      <td>2015/01/06</td>\n",
       "      <td>101</td>\n",
       "      <td>37</td>\n",
       "      <td>na</td>\n",
       "      <td>73</td>\n",
       "      <td>36</td>\n",
       "      <td>38</td>\n",
       "    </tr>\n",
       "    <tr>\n",
       "      <th>4</th>\n",
       "      <td>2015/01/07</td>\n",
       "      <td>85</td>\n",
       "      <td>64</td>\n",
       "      <td>na</td>\n",
       "      <td>81</td>\n",
       "      <td>40</td>\n",
       "      <td>41</td>\n",
       "    </tr>\n",
       "  </tbody>\n",
       "</table>\n",
       "</div>"
      ],
      "text/plain": [
       "         date pm25 pm10  o3 no2 so2  co\n",
       "0  2015/01/03   89   60  na  55  22  45\n",
       "1  2015/01/04  113   97  na  66  46  37\n",
       "2  2015/01/05  153   50  na  29  18   8\n",
       "3  2015/01/06  101   37  na  73  36  38\n",
       "4  2015/01/07   85   64  na  81  40  41"
      ]
     },
     "execution_count": 4,
     "metadata": {},
     "output_type": "execute_result"
    }
   ],
   "source": [
    "data.head()"
   ]
  },
  {
   "cell_type": "markdown",
   "id": "7226831e-25a1-4288-837a-bcd5af310656",
   "metadata": {},
   "source": [
    "# See data info (# of rows, columns)"
   ]
  },
  {
   "cell_type": "code",
   "execution_count": 6,
   "id": "99a9ee16-b531-4342-9572-2f02072299e0",
   "metadata": {},
   "outputs": [
    {
     "data": {
      "text/plain": [
       "(2854, 7)"
      ]
     },
     "execution_count": 6,
     "metadata": {},
     "output_type": "execute_result"
    }
   ],
   "source": [
    "data.shape"
   ]
  },
  {
   "cell_type": "code",
   "execution_count": 7,
   "id": "1c09b9a0-00af-4156-a275-5258098c0773",
   "metadata": {},
   "outputs": [
    {
     "data": {
      "text/plain": [
       "RangeIndex(start=0, stop=2854, step=1)"
      ]
     },
     "execution_count": 7,
     "metadata": {},
     "output_type": "execute_result"
    }
   ],
   "source": [
    "data.index"
   ]
  },
  {
   "cell_type": "markdown",
   "id": "90d4aa1c-180b-404e-9bc8-018c6911d090",
   "metadata": {},
   "source": [
    "# See column names"
   ]
  },
  {
   "cell_type": "code",
   "execution_count": 8,
   "id": "b24c559f-5afd-419e-927a-e3d02e802001",
   "metadata": {},
   "outputs": [
    {
     "data": {
      "text/plain": [
       "Index(['date', 'pm25', 'pm10', 'o3', 'no2', 'so2', 'co'], dtype='object')"
      ]
     },
     "execution_count": 8,
     "metadata": {},
     "output_type": "execute_result"
    }
   ],
   "source": [
    "data.columns"
   ]
  },
  {
   "cell_type": "markdown",
   "id": "770a56ab-7820-4c39-b17d-7ff2be35a332",
   "metadata": {},
   "source": [
    "# See data types"
   ]
  },
  {
   "cell_type": "code",
   "execution_count": 9,
   "id": "58442806-9ad2-4518-b435-af2fe6b3b2a0",
   "metadata": {},
   "outputs": [
    {
     "data": {
      "text/plain": [
       "date    object\n",
       "pm25    object\n",
       "pm10    object\n",
       "o3      object\n",
       "no2     object\n",
       "so2     object\n",
       "co      object\n",
       "dtype: object"
      ]
     },
     "execution_count": 9,
     "metadata": {},
     "output_type": "execute_result"
    }
   ],
   "source": [
    "data.dtypes"
   ]
  },
  {
   "cell_type": "markdown",
   "id": "8ea58400-0f15-4b61-a2b4-dcd72e6d1450",
   "metadata": {},
   "source": [
    "# See unique values by column name"
   ]
  },
  {
   "cell_type": "code",
   "execution_count": 13,
   "id": "098e8d84-e18e-45a0-8b8a-f8a14fc1a5e9",
   "metadata": {},
   "outputs": [
    {
     "data": {
      "text/plain": [
       "array(['89', '113', '153', '101', '85', '108', '114', '122', '126', '105',\n",
       "       '121', '145', '103', '68', '217', '133', '96', '112', '134', '140',\n",
       "       '78', '76', '88', '110', '144', '155', '95', '67', '127', '74',\n",
       "       '99', '161', '123', '116', '136', '119', '77', '83', '141', '111',\n",
       "       '146', '80', '128', '87', '69', '90', '97', '139', '118', '104',\n",
       "       '102', '142', '147', '234', '71', '81', '106', '117', '107', '86',\n",
       "       '124', '148', '94', '82', '65', '307', '92', '75', '63', '115',\n",
       "       '163', '151', '158', '130', '152', '138', '170', '137', '150',\n",
       "       '149', '120', '125', '156', '143', '100', '72', '159', '162',\n",
       "       '164', '73', '135', '93', '61', '58', '60', '79', '64', '91',\n",
       "       '131', '47', '51', '160', '70', '98', '109', '84', 'na', '166',\n",
       "       '171', '132', '168', '66', '57', '129', '52', '55', '59', '62',\n",
       "       '154', '175', '49', '46', '40', '157', '56', '54', '53', '42',\n",
       "       '44', '48', '50', '167', '169', '36', '31', '29', '43', '23', '45',\n",
       "       '38', '41', '28', '27', '180', '34', '39', '37', '35', '32', '24',\n",
       "       '26', '30', '33'], dtype=object)"
      ]
     },
     "execution_count": 13,
     "metadata": {},
     "output_type": "execute_result"
    }
   ],
   "source": [
    "data['pm25'].unique()"
   ]
  },
  {
   "cell_type": "markdown",
   "id": "1978ddcf-fed1-4663-afb8-e9f2feb026d6",
   "metadata": {},
   "source": [
    "# See # of unique values per column"
   ]
  },
  {
   "cell_type": "code",
   "execution_count": 14,
   "id": "4ccc8168-1ee9-4f91-b1d6-ba269975c42a",
   "metadata": {},
   "outputs": [
    {
     "data": {
      "text/plain": [
       "date    2854\n",
       "pm25     153\n",
       "pm10     100\n",
       "o3       108\n",
       "no2       82\n",
       "so2       43\n",
       "co        20\n",
       "dtype: int64"
      ]
     },
     "execution_count": 14,
     "metadata": {},
     "output_type": "execute_result"
    }
   ],
   "source": [
    "data.nunique()"
   ]
  },
  {
   "cell_type": "markdown",
   "id": "5cc5a50f-bb74-4de3-ab5e-2116531dc211",
   "metadata": {},
   "source": [
    "# See # of rows of data per column"
   ]
  },
  {
   "cell_type": "code",
   "execution_count": 15,
   "id": "2b4ba632-c6fc-4c9c-a2f8-6994dc7c226d",
   "metadata": {},
   "outputs": [
    {
     "data": {
      "text/plain": [
       "date    2854\n",
       "pm25    2854\n",
       "pm10    2854\n",
       "o3      2854\n",
       "no2     2854\n",
       "so2     2854\n",
       "co      2854\n",
       "dtype: int64"
      ]
     },
     "execution_count": 15,
     "metadata": {},
     "output_type": "execute_result"
    }
   ],
   "source": [
    "data.count()"
   ]
  },
  {
   "cell_type": "markdown",
   "id": "f2239636-5efe-4e4b-843b-42c79355ea87",
   "metadata": {},
   "source": [
    "# See # of instances of values"
   ]
  },
  {
   "cell_type": "code",
   "execution_count": 17,
   "id": "4a8866a1-ebc8-4de1-beef-016a446216bb",
   "metadata": {},
   "outputs": [
    {
     "data": {
      "text/plain": [
       "83     51\n",
       "66     48\n",
       "70     46\n",
       "74     46\n",
       "68     45\n",
       "       ..\n",
       "163     1\n",
       "307     1\n",
       "234     1\n",
       "217     1\n",
       "33      1\n",
       "Name: pm25, Length: 153, dtype: int64"
      ]
     },
     "execution_count": 17,
     "metadata": {},
     "output_type": "execute_result"
    }
   ],
   "source": [
    "data['pm25'].value_counts()"
   ]
  },
  {
   "cell_type": "markdown",
   "id": "403e769d-2651-45a3-8c0b-db98dc3eb8bb",
   "metadata": {},
   "source": [
    "# "
   ]
  },
  {
   "cell_type": "code",
   "execution_count": 18,
   "id": "008f30ea-9b56-438b-b3a3-e4dd79c183fb",
   "metadata": {},
   "outputs": [
    {
     "name": "stdout",
     "output_type": "stream",
     "text": [
      "<class 'pandas.core.frame.DataFrame'>\n",
      "RangeIndex: 2854 entries, 0 to 2853\n",
      "Data columns (total 7 columns):\n",
      " #   Column  Non-Null Count  Dtype \n",
      "---  ------  --------------  ----- \n",
      " 0   date    2854 non-null   object\n",
      " 1   pm25    2854 non-null   object\n",
      " 2   pm10    2854 non-null   object\n",
      " 3   o3      2854 non-null   object\n",
      " 4   no2     2854 non-null   object\n",
      " 5   so2     2854 non-null   object\n",
      " 6   co      2854 non-null   object\n",
      "dtypes: object(7)\n",
      "memory usage: 156.2+ KB\n"
     ]
    }
   ],
   "source": [
    "data.info()"
   ]
  },
  {
   "cell_type": "markdown",
   "id": "56f7ee3c-058f-4171-a262-c046267fb8a9",
   "metadata": {},
   "source": [
    "# Question 1: Find all of the unique 'co' values."
   ]
  },
  {
   "cell_type": "code",
   "execution_count": 19,
   "id": "13777c40-2ffe-484d-a90c-d2fa82bfadab",
   "metadata": {},
   "outputs": [
    {
     "data": {
      "text/html": [
       "<div>\n",
       "<style scoped>\n",
       "    .dataframe tbody tr th:only-of-type {\n",
       "        vertical-align: middle;\n",
       "    }\n",
       "\n",
       "    .dataframe tbody tr th {\n",
       "        vertical-align: top;\n",
       "    }\n",
       "\n",
       "    .dataframe thead th {\n",
       "        text-align: right;\n",
       "    }\n",
       "</style>\n",
       "<table border=\"1\" class=\"dataframe\">\n",
       "  <thead>\n",
       "    <tr style=\"text-align: right;\">\n",
       "      <th></th>\n",
       "      <th>date</th>\n",
       "      <th>pm25</th>\n",
       "      <th>pm10</th>\n",
       "      <th>o3</th>\n",
       "      <th>no2</th>\n",
       "      <th>so2</th>\n",
       "      <th>co</th>\n",
       "    </tr>\n",
       "  </thead>\n",
       "  <tbody>\n",
       "    <tr>\n",
       "      <th>0</th>\n",
       "      <td>2015/01/03</td>\n",
       "      <td>89</td>\n",
       "      <td>60</td>\n",
       "      <td>na</td>\n",
       "      <td>55</td>\n",
       "      <td>22</td>\n",
       "      <td>45</td>\n",
       "    </tr>\n",
       "    <tr>\n",
       "      <th>1</th>\n",
       "      <td>2015/01/04</td>\n",
       "      <td>113</td>\n",
       "      <td>97</td>\n",
       "      <td>na</td>\n",
       "      <td>66</td>\n",
       "      <td>46</td>\n",
       "      <td>37</td>\n",
       "    </tr>\n",
       "  </tbody>\n",
       "</table>\n",
       "</div>"
      ],
      "text/plain": [
       "         date pm25 pm10  o3 no2 so2  co\n",
       "0  2015/01/03   89   60  na  55  22  45\n",
       "1  2015/01/04  113   97  na  66  46  37"
      ]
     },
     "execution_count": 19,
     "metadata": {},
     "output_type": "execute_result"
    }
   ],
   "source": [
    "data.head(2)"
   ]
  },
  {
   "cell_type": "code",
   "execution_count": 20,
   "id": "6cda575c-6a2a-4399-bb14-49cece2a804f",
   "metadata": {},
   "outputs": [
    {
     "data": {
      "text/plain": [
       "date    2854\n",
       "pm25     153\n",
       "pm10     100\n",
       "o3       108\n",
       "no2       82\n",
       "so2       43\n",
       "co        20\n",
       "dtype: int64"
      ]
     },
     "execution_count": 20,
     "metadata": {},
     "output_type": "execute_result"
    }
   ],
   "source": [
    "data.nunique()"
   ]
  },
  {
   "cell_type": "code",
   "execution_count": 22,
   "id": "afe19aaf-cd33-4ee8-af00-80630f08a5b3",
   "metadata": {},
   "outputs": [
    {
     "data": {
      "text/plain": [
       "20"
      ]
     },
     "execution_count": 22,
     "metadata": {},
     "output_type": "execute_result"
    }
   ],
   "source": [
    "data['co'].nunique()"
   ]
  },
  {
   "cell_type": "code",
   "execution_count": 23,
   "id": "1c0575d7-f6eb-4114-bf6f-3f2c4db2981e",
   "metadata": {},
   "outputs": [
    {
     "data": {
      "text/plain": [
       "array(['45', '37', '8', '38', '41', '7', '10', '9', '11', '12', '14',\n",
       "       '13', '5', '16', '6', '4', '3', 'na', '2', '1'], dtype=object)"
      ]
     },
     "execution_count": 23,
     "metadata": {},
     "output_type": "execute_result"
    }
   ],
   "source": [
    "data['co'].unique()"
   ]
  },
  {
   "cell_type": "markdown",
   "id": "ccae38af-fada-47fd-a76a-082aaf408ddc",
   "metadata": {},
   "source": [
    "# Question 2: Find the number of times 'co' is '1'"
   ]
  },
  {
   "cell_type": "code",
   "execution_count": 24,
   "id": "6a6c8d68-0771-48c0-99e5-14be25b98917",
   "metadata": {},
   "outputs": [
    {
     "data": {
      "text/html": [
       "<div>\n",
       "<style scoped>\n",
       "    .dataframe tbody tr th:only-of-type {\n",
       "        vertical-align: middle;\n",
       "    }\n",
       "\n",
       "    .dataframe tbody tr th {\n",
       "        vertical-align: top;\n",
       "    }\n",
       "\n",
       "    .dataframe thead th {\n",
       "        text-align: right;\n",
       "    }\n",
       "</style>\n",
       "<table border=\"1\" class=\"dataframe\">\n",
       "  <thead>\n",
       "    <tr style=\"text-align: right;\">\n",
       "      <th></th>\n",
       "      <th>date</th>\n",
       "      <th>pm25</th>\n",
       "      <th>pm10</th>\n",
       "      <th>o3</th>\n",
       "      <th>no2</th>\n",
       "      <th>so2</th>\n",
       "      <th>co</th>\n",
       "    </tr>\n",
       "  </thead>\n",
       "  <tbody>\n",
       "    <tr>\n",
       "      <th>0</th>\n",
       "      <td>2015/01/03</td>\n",
       "      <td>89</td>\n",
       "      <td>60</td>\n",
       "      <td>na</td>\n",
       "      <td>55</td>\n",
       "      <td>22</td>\n",
       "      <td>45</td>\n",
       "    </tr>\n",
       "    <tr>\n",
       "      <th>1</th>\n",
       "      <td>2015/01/04</td>\n",
       "      <td>113</td>\n",
       "      <td>97</td>\n",
       "      <td>na</td>\n",
       "      <td>66</td>\n",
       "      <td>46</td>\n",
       "      <td>37</td>\n",
       "    </tr>\n",
       "  </tbody>\n",
       "</table>\n",
       "</div>"
      ],
      "text/plain": [
       "         date pm25 pm10  o3 no2 so2  co\n",
       "0  2015/01/03   89   60  na  55  22  45\n",
       "1  2015/01/04  113   97  na  66  46  37"
      ]
     },
     "execution_count": 24,
     "metadata": {},
     "output_type": "execute_result"
    }
   ],
   "source": [
    "data.head(2)"
   ]
  },
  {
   "cell_type": "code",
   "execution_count": 25,
   "id": "49480735-59e2-4b39-97a4-2aa5fe6f75d1",
   "metadata": {},
   "outputs": [
    {
     "data": {
      "text/plain": [
       "4     637\n",
       "5     595\n",
       "3     520\n",
       "6     386\n",
       "7     264\n",
       "8     152\n",
       "2     139\n",
       "9      68\n",
       "10     37\n",
       "11     16\n",
       "na     13\n",
       "12     10\n",
       "13      6\n",
       "1       4\n",
       "14      2\n",
       "16      1\n",
       "37      1\n",
       "41      1\n",
       "38      1\n",
       "45      1\n",
       "Name: co, dtype: int64"
      ]
     },
     "execution_count": 25,
     "metadata": {},
     "output_type": "execute_result"
    }
   ],
   "source": [
    "#value_counts()\n",
    "\n",
    "data.co.value_counts()"
   ]
  },
  {
   "cell_type": "code",
   "execution_count": 27,
   "id": "abf32ed0-5c62-4d17-a02f-3bb63e1b827a",
   "metadata": {},
   "outputs": [
    {
     "data": {
      "text/html": [
       "<div>\n",
       "<style scoped>\n",
       "    .dataframe tbody tr th:only-of-type {\n",
       "        vertical-align: middle;\n",
       "    }\n",
       "\n",
       "    .dataframe tbody tr th {\n",
       "        vertical-align: top;\n",
       "    }\n",
       "\n",
       "    .dataframe thead th {\n",
       "        text-align: right;\n",
       "    }\n",
       "</style>\n",
       "<table border=\"1\" class=\"dataframe\">\n",
       "  <thead>\n",
       "    <tr style=\"text-align: right;\">\n",
       "      <th></th>\n",
       "      <th>date</th>\n",
       "      <th>pm25</th>\n",
       "      <th>pm10</th>\n",
       "      <th>o3</th>\n",
       "      <th>no2</th>\n",
       "      <th>so2</th>\n",
       "      <th>co</th>\n",
       "    </tr>\n",
       "  </thead>\n",
       "  <tbody>\n",
       "    <tr>\n",
       "      <th>2378</th>\n",
       "      <td>2021/09/12</td>\n",
       "      <td>74</td>\n",
       "      <td>30</td>\n",
       "      <td>41</td>\n",
       "      <td>17</td>\n",
       "      <td>7</td>\n",
       "      <td>1</td>\n",
       "    </tr>\n",
       "    <tr>\n",
       "      <th>2698</th>\n",
       "      <td>2022/07/29</td>\n",
       "      <td>71</td>\n",
       "      <td>21</td>\n",
       "      <td>29</td>\n",
       "      <td>12</td>\n",
       "      <td>5</td>\n",
       "      <td>1</td>\n",
       "    </tr>\n",
       "    <tr>\n",
       "      <th>2707</th>\n",
       "      <td>2022/08/07</td>\n",
       "      <td>59</td>\n",
       "      <td>30</td>\n",
       "      <td>29</td>\n",
       "      <td>16</td>\n",
       "      <td>3</td>\n",
       "      <td>1</td>\n",
       "    </tr>\n",
       "    <tr>\n",
       "      <th>2714</th>\n",
       "      <td>2022/08/14</td>\n",
       "      <td>60</td>\n",
       "      <td>22</td>\n",
       "      <td>23</td>\n",
       "      <td>10</td>\n",
       "      <td>4</td>\n",
       "      <td>1</td>\n",
       "    </tr>\n",
       "  </tbody>\n",
       "</table>\n",
       "</div>"
      ],
      "text/plain": [
       "            date pm25 pm10  o3 no2 so2 co\n",
       "2378  2021/09/12   74   30  41  17   7  1\n",
       "2698  2022/07/29   71   21  29  12   5  1\n",
       "2707  2022/08/07   59   30  29  16   3  1\n",
       "2714  2022/08/14   60   22  23  10   4  1"
      ]
     },
     "execution_count": 27,
     "metadata": {},
     "output_type": "execute_result"
    }
   ],
   "source": [
    "#filtering\n",
    "\n",
    "data[data.co == '1']"
   ]
  },
  {
   "cell_type": "code",
   "execution_count": 28,
   "id": "c6616849-b7a7-4c9b-a7cb-7b1c8f65ccf3",
   "metadata": {},
   "outputs": [
    {
     "data": {
      "text/plain": [
       "0       False\n",
       "1       False\n",
       "2       False\n",
       "3       False\n",
       "4       False\n",
       "        ...  \n",
       "2849    False\n",
       "2850    False\n",
       "2851    False\n",
       "2852    False\n",
       "2853    False\n",
       "Name: co, Length: 2854, dtype: bool"
      ]
     },
     "execution_count": 28,
     "metadata": {},
     "output_type": "execute_result"
    }
   ],
   "source": [
    "#filtering boolean result\n",
    "\n",
    "data.co == '1'"
   ]
  },
  {
   "cell_type": "code",
   "execution_count": 31,
   "id": "6fcf7d36-94c6-4b67-a77f-e02df7a96a20",
   "metadata": {},
   "outputs": [
    {
     "data": {
      "text/html": [
       "<div>\n",
       "<style scoped>\n",
       "    .dataframe tbody tr th:only-of-type {\n",
       "        vertical-align: middle;\n",
       "    }\n",
       "\n",
       "    .dataframe tbody tr th {\n",
       "        vertical-align: top;\n",
       "    }\n",
       "\n",
       "    .dataframe thead th {\n",
       "        text-align: right;\n",
       "    }\n",
       "</style>\n",
       "<table border=\"1\" class=\"dataframe\">\n",
       "  <thead>\n",
       "    <tr style=\"text-align: right;\">\n",
       "      <th></th>\n",
       "      <th>date</th>\n",
       "      <th>pm25</th>\n",
       "      <th>pm10</th>\n",
       "      <th>o3</th>\n",
       "      <th>no2</th>\n",
       "      <th>so2</th>\n",
       "      <th>co</th>\n",
       "    </tr>\n",
       "  </thead>\n",
       "  <tbody>\n",
       "    <tr>\n",
       "      <th>2378</th>\n",
       "      <td>2021/09/12</td>\n",
       "      <td>74</td>\n",
       "      <td>30</td>\n",
       "      <td>41</td>\n",
       "      <td>17</td>\n",
       "      <td>7</td>\n",
       "      <td>1</td>\n",
       "    </tr>\n",
       "    <tr>\n",
       "      <th>2698</th>\n",
       "      <td>2022/07/29</td>\n",
       "      <td>71</td>\n",
       "      <td>21</td>\n",
       "      <td>29</td>\n",
       "      <td>12</td>\n",
       "      <td>5</td>\n",
       "      <td>1</td>\n",
       "    </tr>\n",
       "    <tr>\n",
       "      <th>2707</th>\n",
       "      <td>2022/08/07</td>\n",
       "      <td>59</td>\n",
       "      <td>30</td>\n",
       "      <td>29</td>\n",
       "      <td>16</td>\n",
       "      <td>3</td>\n",
       "      <td>1</td>\n",
       "    </tr>\n",
       "    <tr>\n",
       "      <th>2714</th>\n",
       "      <td>2022/08/14</td>\n",
       "      <td>60</td>\n",
       "      <td>22</td>\n",
       "      <td>23</td>\n",
       "      <td>10</td>\n",
       "      <td>4</td>\n",
       "      <td>1</td>\n",
       "    </tr>\n",
       "  </tbody>\n",
       "</table>\n",
       "</div>"
      ],
      "text/plain": [
       "            date pm25 pm10  o3 no2 so2 co\n",
       "2378  2021/09/12   74   30  41  17   7  1\n",
       "2698  2022/07/29   71   21  29  12   5  1\n",
       "2707  2022/08/07   59   30  29  16   3  1\n",
       "2714  2022/08/14   60   22  23  10   4  1"
      ]
     },
     "execution_count": 31,
     "metadata": {},
     "output_type": "execute_result"
    }
   ],
   "source": [
    "#groupby\n",
    "#data.head(2)\n",
    "\n",
    "data.groupby('co').get_group('1')"
   ]
  },
  {
   "cell_type": "code",
   "execution_count": null,
   "id": "8e600d21-aca0-4446-a4f9-6a66373218b2",
   "metadata": {},
   "outputs": [],
   "source": []
  },
  {
   "cell_type": "markdown",
   "id": "2de12a81-9840-49ae-80c1-e450cb93d44e",
   "metadata": {},
   "source": [
    "# Question 3: Find the number of times 'pm25' was exactly '307'"
   ]
  },
  {
   "cell_type": "code",
   "execution_count": 32,
   "id": "66055505-d92b-4929-a34d-af71957ccb58",
   "metadata": {},
   "outputs": [
    {
     "data": {
      "text/html": [
       "<div>\n",
       "<style scoped>\n",
       "    .dataframe tbody tr th:only-of-type {\n",
       "        vertical-align: middle;\n",
       "    }\n",
       "\n",
       "    .dataframe tbody tr th {\n",
       "        vertical-align: top;\n",
       "    }\n",
       "\n",
       "    .dataframe thead th {\n",
       "        text-align: right;\n",
       "    }\n",
       "</style>\n",
       "<table border=\"1\" class=\"dataframe\">\n",
       "  <thead>\n",
       "    <tr style=\"text-align: right;\">\n",
       "      <th></th>\n",
       "      <th>date</th>\n",
       "      <th>pm25</th>\n",
       "      <th>pm10</th>\n",
       "      <th>o3</th>\n",
       "      <th>no2</th>\n",
       "      <th>so2</th>\n",
       "      <th>co</th>\n",
       "    </tr>\n",
       "  </thead>\n",
       "  <tbody>\n",
       "    <tr>\n",
       "      <th>0</th>\n",
       "      <td>2015/01/03</td>\n",
       "      <td>89</td>\n",
       "      <td>60</td>\n",
       "      <td>na</td>\n",
       "      <td>55</td>\n",
       "      <td>22</td>\n",
       "      <td>45</td>\n",
       "    </tr>\n",
       "    <tr>\n",
       "      <th>1</th>\n",
       "      <td>2015/01/04</td>\n",
       "      <td>113</td>\n",
       "      <td>97</td>\n",
       "      <td>na</td>\n",
       "      <td>66</td>\n",
       "      <td>46</td>\n",
       "      <td>37</td>\n",
       "    </tr>\n",
       "  </tbody>\n",
       "</table>\n",
       "</div>"
      ],
      "text/plain": [
       "         date pm25 pm10  o3 no2 so2  co\n",
       "0  2015/01/03   89   60  na  55  22  45\n",
       "1  2015/01/04  113   97  na  66  46  37"
      ]
     },
     "execution_count": 32,
     "metadata": {},
     "output_type": "execute_result"
    }
   ],
   "source": [
    "data.head(2)"
   ]
  },
  {
   "cell_type": "code",
   "execution_count": 55,
   "id": "c58cb753-f928-400c-b5c5-114c8a5b7052",
   "metadata": {},
   "outputs": [
    {
     "data": {
      "text/html": [
       "<div>\n",
       "<style scoped>\n",
       "    .dataframe tbody tr th:only-of-type {\n",
       "        vertical-align: middle;\n",
       "    }\n",
       "\n",
       "    .dataframe tbody tr th {\n",
       "        vertical-align: top;\n",
       "    }\n",
       "\n",
       "    .dataframe thead th {\n",
       "        text-align: right;\n",
       "    }\n",
       "</style>\n",
       "<table border=\"1\" class=\"dataframe\">\n",
       "  <thead>\n",
       "    <tr style=\"text-align: right;\">\n",
       "      <th></th>\n",
       "      <th>date</th>\n",
       "      <th>pm25</th>\n",
       "      <th>pm10</th>\n",
       "      <th>o3</th>\n",
       "      <th>no2</th>\n",
       "      <th>so2</th>\n",
       "      <th>co</th>\n",
       "    </tr>\n",
       "  </thead>\n",
       "  <tbody>\n",
       "    <tr>\n",
       "      <th>93</th>\n",
       "      <td>2015/04/06</td>\n",
       "      <td>307</td>\n",
       "      <td>53</td>\n",
       "      <td>35</td>\n",
       "      <td>30</td>\n",
       "      <td>13</td>\n",
       "      <td>6</td>\n",
       "    </tr>\n",
       "  </tbody>\n",
       "</table>\n",
       "</div>"
      ],
      "text/plain": [
       "          date pm25 pm10  o3 no2 so2 co\n",
       "93  2015/04/06  307   53  35  30  13  6"
      ]
     },
     "execution_count": 55,
     "metadata": {},
     "output_type": "execute_result"
    }
   ],
   "source": [
    "data[data['pm25'] == '307']"
   ]
  },
  {
   "cell_type": "code",
   "execution_count": 89,
   "id": "65ae6f93-f85b-4ee6-9631-a557a1027216",
   "metadata": {},
   "outputs": [
    {
     "data": {
      "text/plain": [
       "83.0     51\n",
       "66.0     48\n",
       "70.0     46\n",
       "74.0     46\n",
       "68.0     45\n",
       "         ..\n",
       "163.0     1\n",
       "307.0     1\n",
       "234.0     1\n",
       "217.0     1\n",
       "33.0      1\n",
       "Name: pm25_microdust, Length: 152, dtype: int64"
      ]
     },
     "execution_count": 89,
     "metadata": {},
     "output_type": "execute_result"
    }
   ],
   "source": [
    "data.pm25_microdust.value_counts()"
   ]
  },
  {
   "cell_type": "markdown",
   "id": "279f49b8-7194-474a-a9ba-02a1482e1169",
   "metadata": {},
   "source": [
    "# Question 4: Find the null values in the data"
   ]
  },
  {
   "cell_type": "code",
   "execution_count": 56,
   "id": "a00c2565-8b8f-425e-8bea-791ea050df7f",
   "metadata": {},
   "outputs": [
    {
     "data": {
      "text/html": [
       "<div>\n",
       "<style scoped>\n",
       "    .dataframe tbody tr th:only-of-type {\n",
       "        vertical-align: middle;\n",
       "    }\n",
       "\n",
       "    .dataframe tbody tr th {\n",
       "        vertical-align: top;\n",
       "    }\n",
       "\n",
       "    .dataframe thead th {\n",
       "        text-align: right;\n",
       "    }\n",
       "</style>\n",
       "<table border=\"1\" class=\"dataframe\">\n",
       "  <thead>\n",
       "    <tr style=\"text-align: right;\">\n",
       "      <th></th>\n",
       "      <th>date</th>\n",
       "      <th>pm25</th>\n",
       "      <th>pm10</th>\n",
       "      <th>o3</th>\n",
       "      <th>no2</th>\n",
       "      <th>so2</th>\n",
       "      <th>co</th>\n",
       "    </tr>\n",
       "  </thead>\n",
       "  <tbody>\n",
       "    <tr>\n",
       "      <th>0</th>\n",
       "      <td>False</td>\n",
       "      <td>False</td>\n",
       "      <td>False</td>\n",
       "      <td>False</td>\n",
       "      <td>False</td>\n",
       "      <td>False</td>\n",
       "      <td>False</td>\n",
       "    </tr>\n",
       "    <tr>\n",
       "      <th>1</th>\n",
       "      <td>False</td>\n",
       "      <td>False</td>\n",
       "      <td>False</td>\n",
       "      <td>False</td>\n",
       "      <td>False</td>\n",
       "      <td>False</td>\n",
       "      <td>False</td>\n",
       "    </tr>\n",
       "    <tr>\n",
       "      <th>2</th>\n",
       "      <td>False</td>\n",
       "      <td>False</td>\n",
       "      <td>False</td>\n",
       "      <td>False</td>\n",
       "      <td>False</td>\n",
       "      <td>False</td>\n",
       "      <td>False</td>\n",
       "    </tr>\n",
       "    <tr>\n",
       "      <th>3</th>\n",
       "      <td>False</td>\n",
       "      <td>False</td>\n",
       "      <td>False</td>\n",
       "      <td>False</td>\n",
       "      <td>False</td>\n",
       "      <td>False</td>\n",
       "      <td>False</td>\n",
       "    </tr>\n",
       "    <tr>\n",
       "      <th>4</th>\n",
       "      <td>False</td>\n",
       "      <td>False</td>\n",
       "      <td>False</td>\n",
       "      <td>False</td>\n",
       "      <td>False</td>\n",
       "      <td>False</td>\n",
       "      <td>False</td>\n",
       "    </tr>\n",
       "    <tr>\n",
       "      <th>...</th>\n",
       "      <td>...</td>\n",
       "      <td>...</td>\n",
       "      <td>...</td>\n",
       "      <td>...</td>\n",
       "      <td>...</td>\n",
       "      <td>...</td>\n",
       "      <td>...</td>\n",
       "    </tr>\n",
       "    <tr>\n",
       "      <th>2849</th>\n",
       "      <td>False</td>\n",
       "      <td>False</td>\n",
       "      <td>False</td>\n",
       "      <td>False</td>\n",
       "      <td>False</td>\n",
       "      <td>False</td>\n",
       "      <td>False</td>\n",
       "    </tr>\n",
       "    <tr>\n",
       "      <th>2850</th>\n",
       "      <td>False</td>\n",
       "      <td>False</td>\n",
       "      <td>False</td>\n",
       "      <td>False</td>\n",
       "      <td>False</td>\n",
       "      <td>False</td>\n",
       "      <td>False</td>\n",
       "    </tr>\n",
       "    <tr>\n",
       "      <th>2851</th>\n",
       "      <td>False</td>\n",
       "      <td>False</td>\n",
       "      <td>False</td>\n",
       "      <td>False</td>\n",
       "      <td>False</td>\n",
       "      <td>False</td>\n",
       "      <td>False</td>\n",
       "    </tr>\n",
       "    <tr>\n",
       "      <th>2852</th>\n",
       "      <td>False</td>\n",
       "      <td>False</td>\n",
       "      <td>False</td>\n",
       "      <td>False</td>\n",
       "      <td>False</td>\n",
       "      <td>False</td>\n",
       "      <td>False</td>\n",
       "    </tr>\n",
       "    <tr>\n",
       "      <th>2853</th>\n",
       "      <td>False</td>\n",
       "      <td>False</td>\n",
       "      <td>False</td>\n",
       "      <td>False</td>\n",
       "      <td>False</td>\n",
       "      <td>False</td>\n",
       "      <td>False</td>\n",
       "    </tr>\n",
       "  </tbody>\n",
       "</table>\n",
       "<p>2854 rows × 7 columns</p>\n",
       "</div>"
      ],
      "text/plain": [
       "       date   pm25   pm10     o3    no2    so2     co\n",
       "0     False  False  False  False  False  False  False\n",
       "1     False  False  False  False  False  False  False\n",
       "2     False  False  False  False  False  False  False\n",
       "3     False  False  False  False  False  False  False\n",
       "4     False  False  False  False  False  False  False\n",
       "...     ...    ...    ...    ...    ...    ...    ...\n",
       "2849  False  False  False  False  False  False  False\n",
       "2850  False  False  False  False  False  False  False\n",
       "2851  False  False  False  False  False  False  False\n",
       "2852  False  False  False  False  False  False  False\n",
       "2853  False  False  False  False  False  False  False\n",
       "\n",
       "[2854 rows x 7 columns]"
      ]
     },
     "execution_count": 56,
     "metadata": {},
     "output_type": "execute_result"
    }
   ],
   "source": [
    "data.isnull()"
   ]
  },
  {
   "cell_type": "code",
   "execution_count": 57,
   "id": "50d3a483-3f12-40fd-a61e-8f6df3841186",
   "metadata": {},
   "outputs": [
    {
     "data": {
      "text/plain": [
       "date    0\n",
       "pm25    0\n",
       "pm10    0\n",
       "o3      0\n",
       "no2     0\n",
       "so2     0\n",
       "co      0\n",
       "dtype: int64"
      ]
     },
     "execution_count": 57,
     "metadata": {},
     "output_type": "execute_result"
    }
   ],
   "source": [
    "data.isnull().sum()"
   ]
  },
  {
   "cell_type": "code",
   "execution_count": 58,
   "id": "bcdb899b-6164-4c25-9ff0-b40a25b497b5",
   "metadata": {},
   "outputs": [
    {
     "data": {
      "text/plain": [
       "date    2854\n",
       "pm25    2854\n",
       "pm10    2854\n",
       "o3      2854\n",
       "no2     2854\n",
       "so2     2854\n",
       "co      2854\n",
       "dtype: int64"
      ]
     },
     "execution_count": 58,
     "metadata": {},
     "output_type": "execute_result"
    }
   ],
   "source": [
    "data.notnull().sum()"
   ]
  },
  {
   "cell_type": "markdown",
   "id": "de06804c-d884-4c31-8440-e5cc7ee5d116",
   "metadata": {},
   "source": [
    "# Question 5: Rename the column 'pm25' with 'pm25_microdust'"
   ]
  },
  {
   "cell_type": "code",
   "execution_count": 59,
   "id": "8ca1b920-a469-4eb6-8ae0-0e68c916ab11",
   "metadata": {},
   "outputs": [
    {
     "data": {
      "text/html": [
       "<div>\n",
       "<style scoped>\n",
       "    .dataframe tbody tr th:only-of-type {\n",
       "        vertical-align: middle;\n",
       "    }\n",
       "\n",
       "    .dataframe tbody tr th {\n",
       "        vertical-align: top;\n",
       "    }\n",
       "\n",
       "    .dataframe thead th {\n",
       "        text-align: right;\n",
       "    }\n",
       "</style>\n",
       "<table border=\"1\" class=\"dataframe\">\n",
       "  <thead>\n",
       "    <tr style=\"text-align: right;\">\n",
       "      <th></th>\n",
       "      <th>date</th>\n",
       "      <th>pm25</th>\n",
       "      <th>pm10</th>\n",
       "      <th>o3</th>\n",
       "      <th>no2</th>\n",
       "      <th>so2</th>\n",
       "      <th>co</th>\n",
       "    </tr>\n",
       "  </thead>\n",
       "  <tbody>\n",
       "    <tr>\n",
       "      <th>0</th>\n",
       "      <td>2015/01/03</td>\n",
       "      <td>89</td>\n",
       "      <td>60</td>\n",
       "      <td>na</td>\n",
       "      <td>55</td>\n",
       "      <td>22</td>\n",
       "      <td>45</td>\n",
       "    </tr>\n",
       "    <tr>\n",
       "      <th>1</th>\n",
       "      <td>2015/01/04</td>\n",
       "      <td>113</td>\n",
       "      <td>97</td>\n",
       "      <td>na</td>\n",
       "      <td>66</td>\n",
       "      <td>46</td>\n",
       "      <td>37</td>\n",
       "    </tr>\n",
       "  </tbody>\n",
       "</table>\n",
       "</div>"
      ],
      "text/plain": [
       "         date pm25 pm10  o3 no2 so2  co\n",
       "0  2015/01/03   89   60  na  55  22  45\n",
       "1  2015/01/04  113   97  na  66  46  37"
      ]
     },
     "execution_count": 59,
     "metadata": {},
     "output_type": "execute_result"
    }
   ],
   "source": [
    "data.head(2)"
   ]
  },
  {
   "cell_type": "code",
   "execution_count": 61,
   "id": "a78ea1f5-b19b-4fcb-835f-591832c298ab",
   "metadata": {},
   "outputs": [
    {
     "data": {
      "text/html": [
       "<div>\n",
       "<style scoped>\n",
       "    .dataframe tbody tr th:only-of-type {\n",
       "        vertical-align: middle;\n",
       "    }\n",
       "\n",
       "    .dataframe tbody tr th {\n",
       "        vertical-align: top;\n",
       "    }\n",
       "\n",
       "    .dataframe thead th {\n",
       "        text-align: right;\n",
       "    }\n",
       "</style>\n",
       "<table border=\"1\" class=\"dataframe\">\n",
       "  <thead>\n",
       "    <tr style=\"text-align: right;\">\n",
       "      <th></th>\n",
       "      <th>date</th>\n",
       "      <th>pm25_microdust</th>\n",
       "      <th>pm10</th>\n",
       "      <th>o3</th>\n",
       "      <th>no2</th>\n",
       "      <th>so2</th>\n",
       "      <th>co</th>\n",
       "    </tr>\n",
       "  </thead>\n",
       "  <tbody>\n",
       "    <tr>\n",
       "      <th>0</th>\n",
       "      <td>2015/01/03</td>\n",
       "      <td>89</td>\n",
       "      <td>60</td>\n",
       "      <td>na</td>\n",
       "      <td>55</td>\n",
       "      <td>22</td>\n",
       "      <td>45</td>\n",
       "    </tr>\n",
       "    <tr>\n",
       "      <th>1</th>\n",
       "      <td>2015/01/04</td>\n",
       "      <td>113</td>\n",
       "      <td>97</td>\n",
       "      <td>na</td>\n",
       "      <td>66</td>\n",
       "      <td>46</td>\n",
       "      <td>37</td>\n",
       "    </tr>\n",
       "    <tr>\n",
       "      <th>2</th>\n",
       "      <td>2015/01/05</td>\n",
       "      <td>153</td>\n",
       "      <td>50</td>\n",
       "      <td>na</td>\n",
       "      <td>29</td>\n",
       "      <td>18</td>\n",
       "      <td>8</td>\n",
       "    </tr>\n",
       "    <tr>\n",
       "      <th>3</th>\n",
       "      <td>2015/01/06</td>\n",
       "      <td>101</td>\n",
       "      <td>37</td>\n",
       "      <td>na</td>\n",
       "      <td>73</td>\n",
       "      <td>36</td>\n",
       "      <td>38</td>\n",
       "    </tr>\n",
       "    <tr>\n",
       "      <th>4</th>\n",
       "      <td>2015/01/07</td>\n",
       "      <td>85</td>\n",
       "      <td>64</td>\n",
       "      <td>na</td>\n",
       "      <td>81</td>\n",
       "      <td>40</td>\n",
       "      <td>41</td>\n",
       "    </tr>\n",
       "    <tr>\n",
       "      <th>...</th>\n",
       "      <td>...</td>\n",
       "      <td>...</td>\n",
       "      <td>...</td>\n",
       "      <td>...</td>\n",
       "      <td>...</td>\n",
       "      <td>...</td>\n",
       "      <td>...</td>\n",
       "    </tr>\n",
       "    <tr>\n",
       "      <th>2849</th>\n",
       "      <td>2022/12/27</td>\n",
       "      <td>76</td>\n",
       "      <td>47</td>\n",
       "      <td>28</td>\n",
       "      <td>32</td>\n",
       "      <td>3</td>\n",
       "      <td>3</td>\n",
       "    </tr>\n",
       "    <tr>\n",
       "      <th>2850</th>\n",
       "      <td>2022/12/28</td>\n",
       "      <td>101</td>\n",
       "      <td>40</td>\n",
       "      <td>27</td>\n",
       "      <td>25</td>\n",
       "      <td>4</td>\n",
       "      <td>3</td>\n",
       "    </tr>\n",
       "    <tr>\n",
       "      <th>2851</th>\n",
       "      <td>2022/12/29</td>\n",
       "      <td>85</td>\n",
       "      <td>46</td>\n",
       "      <td>28</td>\n",
       "      <td>33</td>\n",
       "      <td>3</td>\n",
       "      <td>3</td>\n",
       "    </tr>\n",
       "    <tr>\n",
       "      <th>2852</th>\n",
       "      <td>2022/12/30</td>\n",
       "      <td>102</td>\n",
       "      <td>37</td>\n",
       "      <td>30</td>\n",
       "      <td>24</td>\n",
       "      <td>3</td>\n",
       "      <td>3</td>\n",
       "    </tr>\n",
       "    <tr>\n",
       "      <th>2853</th>\n",
       "      <td>2022/12/31</td>\n",
       "      <td>86</td>\n",
       "      <td>50</td>\n",
       "      <td>38</td>\n",
       "      <td>25</td>\n",
       "      <td>5</td>\n",
       "      <td>4</td>\n",
       "    </tr>\n",
       "  </tbody>\n",
       "</table>\n",
       "<p>2854 rows × 7 columns</p>\n",
       "</div>"
      ],
      "text/plain": [
       "            date pm25_microdust pm10  o3 no2 so2  co\n",
       "0     2015/01/03             89   60  na  55  22  45\n",
       "1     2015/01/04            113   97  na  66  46  37\n",
       "2     2015/01/05            153   50  na  29  18   8\n",
       "3     2015/01/06            101   37  na  73  36  38\n",
       "4     2015/01/07             85   64  na  81  40  41\n",
       "...          ...            ...  ...  ..  ..  ..  ..\n",
       "2849  2022/12/27             76   47  28  32   3   3\n",
       "2850  2022/12/28            101   40  27  25   4   3\n",
       "2851  2022/12/29             85   46  28  33   3   3\n",
       "2852  2022/12/30            102   37  30  24   3   3\n",
       "2853  2022/12/31             86   50  38  25   5   4\n",
       "\n",
       "[2854 rows x 7 columns]"
      ]
     },
     "execution_count": 61,
     "metadata": {},
     "output_type": "execute_result"
    }
   ],
   "source": [
    "#temporarycommand\n",
    "data.rename(columns = {'pm25' : 'pm25_microdust'})"
   ]
  },
  {
   "cell_type": "code",
   "execution_count": 64,
   "id": "411f65c6-0462-47fb-b1d2-39a205f68d3d",
   "metadata": {},
   "outputs": [],
   "source": [
    "#permanentcommand\n",
    "data.rename(columns = {'pm25' : 'pm25_microdust'}, inplace = True)"
   ]
  },
  {
   "cell_type": "code",
   "execution_count": 65,
   "id": "e9f124fb-6b49-48b4-8ffc-9bc34c2f806d",
   "metadata": {},
   "outputs": [
    {
     "data": {
      "text/html": [
       "<div>\n",
       "<style scoped>\n",
       "    .dataframe tbody tr th:only-of-type {\n",
       "        vertical-align: middle;\n",
       "    }\n",
       "\n",
       "    .dataframe tbody tr th {\n",
       "        vertical-align: top;\n",
       "    }\n",
       "\n",
       "    .dataframe thead th {\n",
       "        text-align: right;\n",
       "    }\n",
       "</style>\n",
       "<table border=\"1\" class=\"dataframe\">\n",
       "  <thead>\n",
       "    <tr style=\"text-align: right;\">\n",
       "      <th></th>\n",
       "      <th>date</th>\n",
       "      <th>pm25_microdust</th>\n",
       "      <th>pm10</th>\n",
       "      <th>o3</th>\n",
       "      <th>no2</th>\n",
       "      <th>so2</th>\n",
       "      <th>co</th>\n",
       "    </tr>\n",
       "  </thead>\n",
       "  <tbody>\n",
       "    <tr>\n",
       "      <th>0</th>\n",
       "      <td>2015/01/03</td>\n",
       "      <td>89</td>\n",
       "      <td>60</td>\n",
       "      <td>na</td>\n",
       "      <td>55</td>\n",
       "      <td>22</td>\n",
       "      <td>45</td>\n",
       "    </tr>\n",
       "    <tr>\n",
       "      <th>1</th>\n",
       "      <td>2015/01/04</td>\n",
       "      <td>113</td>\n",
       "      <td>97</td>\n",
       "      <td>na</td>\n",
       "      <td>66</td>\n",
       "      <td>46</td>\n",
       "      <td>37</td>\n",
       "    </tr>\n",
       "  </tbody>\n",
       "</table>\n",
       "</div>"
      ],
      "text/plain": [
       "         date pm25_microdust pm10  o3 no2 so2  co\n",
       "0  2015/01/03             89   60  na  55  22  45\n",
       "1  2015/01/04            113   97  na  66  46  37"
      ]
     },
     "execution_count": 65,
     "metadata": {},
     "output_type": "execute_result"
    }
   ],
   "source": [
    "data.head(2)"
   ]
  },
  {
   "cell_type": "markdown",
   "id": "71c23475-a498-45f4-9c2e-2dde3dc244f8",
   "metadata": {},
   "source": [
    "# Question 6: What is the mean, standard deviation, and variance 'pm25_microdust'?"
   ]
  },
  {
   "cell_type": "code",
   "execution_count": 70,
   "id": "1558b6bb-c698-4a5a-b0ab-72ae0406118d",
   "metadata": {},
   "outputs": [],
   "source": [
    "#converting data type from string to numeric\n",
    "\n",
    "data.pm25_microdust = pd.to_numeric(data.pm25_microdust, errors='coerce')\n"
   ]
  },
  {
   "cell_type": "code",
   "execution_count": 71,
   "id": "e55f29f5-492f-47ac-b757-ab2e9c6f2ec6",
   "metadata": {},
   "outputs": [
    {
     "data": {
      "text/plain": [
       "87.91693065821893"
      ]
     },
     "execution_count": 71,
     "metadata": {},
     "output_type": "execute_result"
    }
   ],
   "source": [
    "data.pm25_microdust.mean()"
   ]
  },
  {
   "cell_type": "code",
   "execution_count": 72,
   "id": "c9b5e005-9910-4634-9289-d3667c62f22a",
   "metadata": {},
   "outputs": [
    {
     "data": {
      "text/plain": [
       "29.88304901079335"
      ]
     },
     "execution_count": 72,
     "metadata": {},
     "output_type": "execute_result"
    }
   ],
   "source": [
    "data.pm25_microdust.std()"
   ]
  },
  {
   "cell_type": "code",
   "execution_count": 73,
   "id": "becf22d2-66fd-4324-8b0c-880885e5d05b",
   "metadata": {},
   "outputs": [
    {
     "data": {
      "text/plain": [
       "892.9966181814774"
      ]
     },
     "execution_count": 73,
     "metadata": {},
     "output_type": "execute_result"
    }
   ],
   "source": [
    "data.pm25_microdust.var()"
   ]
  },
  {
   "cell_type": "markdown",
   "id": "3a7b3acf-959f-4b5f-8aaa-82ce50d62ddb",
   "metadata": {},
   "source": [
    "# Question 7: Find all instances when 'na' was recorded"
   ]
  },
  {
   "cell_type": "code",
   "execution_count": 74,
   "id": "cb04d579-0046-4aa1-9918-2865acf1f42a",
   "metadata": {},
   "outputs": [
    {
     "data": {
      "text/html": [
       "<div>\n",
       "<style scoped>\n",
       "    .dataframe tbody tr th:only-of-type {\n",
       "        vertical-align: middle;\n",
       "    }\n",
       "\n",
       "    .dataframe tbody tr th {\n",
       "        vertical-align: top;\n",
       "    }\n",
       "\n",
       "    .dataframe thead th {\n",
       "        text-align: right;\n",
       "    }\n",
       "</style>\n",
       "<table border=\"1\" class=\"dataframe\">\n",
       "  <thead>\n",
       "    <tr style=\"text-align: right;\">\n",
       "      <th></th>\n",
       "      <th>date</th>\n",
       "      <th>pm25_microdust</th>\n",
       "      <th>pm10</th>\n",
       "      <th>o3</th>\n",
       "      <th>no2</th>\n",
       "      <th>so2</th>\n",
       "      <th>co</th>\n",
       "    </tr>\n",
       "  </thead>\n",
       "  <tbody>\n",
       "    <tr>\n",
       "      <th>0</th>\n",
       "      <td>2015/01/03</td>\n",
       "      <td>89.0</td>\n",
       "      <td>60</td>\n",
       "      <td>na</td>\n",
       "      <td>55</td>\n",
       "      <td>22</td>\n",
       "      <td>45</td>\n",
       "    </tr>\n",
       "    <tr>\n",
       "      <th>1</th>\n",
       "      <td>2015/01/04</td>\n",
       "      <td>113.0</td>\n",
       "      <td>97</td>\n",
       "      <td>na</td>\n",
       "      <td>66</td>\n",
       "      <td>46</td>\n",
       "      <td>37</td>\n",
       "    </tr>\n",
       "  </tbody>\n",
       "</table>\n",
       "</div>"
      ],
      "text/plain": [
       "         date  pm25_microdust pm10  o3 no2 so2  co\n",
       "0  2015/01/03            89.0   60  na  55  22  45\n",
       "1  2015/01/04           113.0   97  na  66  46  37"
      ]
     },
     "execution_count": 74,
     "metadata": {},
     "output_type": "execute_result"
    }
   ],
   "source": [
    "data.head(2)"
   ]
  },
  {
   "cell_type": "code",
   "execution_count": 75,
   "id": "f34b1743-cdbc-48e8-a91f-8a7e41dad508",
   "metadata": {},
   "outputs": [
    {
     "data": {
      "text/plain": [
       "83.0     51\n",
       "66.0     48\n",
       "70.0     46\n",
       "74.0     46\n",
       "68.0     45\n",
       "         ..\n",
       "163.0     1\n",
       "307.0     1\n",
       "234.0     1\n",
       "217.0     1\n",
       "33.0      1\n",
       "Name: pm25_microdust, Length: 152, dtype: int64"
      ]
     },
     "execution_count": 75,
     "metadata": {},
     "output_type": "execute_result"
    }
   ],
   "source": [
    "data.pm25_microdust.value_counts()"
   ]
  },
  {
   "cell_type": "code",
   "execution_count": 87,
   "id": "080a387a-380d-49ed-af8e-03ed00404182",
   "metadata": {},
   "outputs": [
    {
     "data": {
      "text/html": [
       "<div>\n",
       "<style scoped>\n",
       "    .dataframe tbody tr th:only-of-type {\n",
       "        vertical-align: middle;\n",
       "    }\n",
       "\n",
       "    .dataframe tbody tr th {\n",
       "        vertical-align: top;\n",
       "    }\n",
       "\n",
       "    .dataframe thead th {\n",
       "        text-align: right;\n",
       "    }\n",
       "</style>\n",
       "<table border=\"1\" class=\"dataframe\">\n",
       "  <thead>\n",
       "    <tr style=\"text-align: right;\">\n",
       "      <th></th>\n",
       "      <th>date</th>\n",
       "      <th>pm25_microdust</th>\n",
       "      <th>pm10</th>\n",
       "      <th>o3</th>\n",
       "      <th>no2</th>\n",
       "      <th>so2</th>\n",
       "      <th>co</th>\n",
       "    </tr>\n",
       "  </thead>\n",
       "  <tbody>\n",
       "  </tbody>\n",
       "</table>\n",
       "</div>"
      ],
      "text/plain": [
       "Empty DataFrame\n",
       "Columns: [date, pm25_microdust, pm10, o3, no2, so2, co]\n",
       "Index: []"
      ]
     },
     "execution_count": 87,
     "metadata": {},
     "output_type": "execute_result"
    }
   ],
   "source": [
    "data[data.pm25_microdust == 'na']"
   ]
  },
  {
   "cell_type": "markdown",
   "id": "e8b5286d-e175-4bcf-a502-61cdb2021d9b",
   "metadata": {},
   "source": [
    "# Question 7: Show how many instances where 'pm25_microdust' is lower than '50'"
   ]
  },
  {
   "cell_type": "code",
   "execution_count": 90,
   "id": "1423ae37-f12f-4c55-bb8f-20bed42f3997",
   "metadata": {},
   "outputs": [
    {
     "data": {
      "text/html": [
       "<div>\n",
       "<style scoped>\n",
       "    .dataframe tbody tr th:only-of-type {\n",
       "        vertical-align: middle;\n",
       "    }\n",
       "\n",
       "    .dataframe tbody tr th {\n",
       "        vertical-align: top;\n",
       "    }\n",
       "\n",
       "    .dataframe thead th {\n",
       "        text-align: right;\n",
       "    }\n",
       "</style>\n",
       "<table border=\"1\" class=\"dataframe\">\n",
       "  <thead>\n",
       "    <tr style=\"text-align: right;\">\n",
       "      <th></th>\n",
       "      <th>date</th>\n",
       "      <th>pm25_microdust</th>\n",
       "      <th>pm10</th>\n",
       "      <th>o3</th>\n",
       "      <th>no2</th>\n",
       "      <th>so2</th>\n",
       "      <th>co</th>\n",
       "    </tr>\n",
       "  </thead>\n",
       "  <tbody>\n",
       "    <tr>\n",
       "      <th>0</th>\n",
       "      <td>2015/01/03</td>\n",
       "      <td>89.0</td>\n",
       "      <td>60</td>\n",
       "      <td>na</td>\n",
       "      <td>55</td>\n",
       "      <td>22</td>\n",
       "      <td>45</td>\n",
       "    </tr>\n",
       "    <tr>\n",
       "      <th>1</th>\n",
       "      <td>2015/01/04</td>\n",
       "      <td>113.0</td>\n",
       "      <td>97</td>\n",
       "      <td>na</td>\n",
       "      <td>66</td>\n",
       "      <td>46</td>\n",
       "      <td>37</td>\n",
       "    </tr>\n",
       "  </tbody>\n",
       "</table>\n",
       "</div>"
      ],
      "text/plain": [
       "         date  pm25_microdust pm10  o3 no2 so2  co\n",
       "0  2015/01/03            89.0   60  na  55  22  45\n",
       "1  2015/01/04           113.0   97  na  66  46  37"
      ]
     },
     "execution_count": 90,
     "metadata": {},
     "output_type": "execute_result"
    }
   ],
   "source": [
    "data.head(2)"
   ]
  },
  {
   "cell_type": "code",
   "execution_count": 100,
   "id": "c4c91e8e-e3fe-4392-a285-b5fea41cb02f",
   "metadata": {},
   "outputs": [
    {
     "data": {
      "text/html": [
       "<div>\n",
       "<style scoped>\n",
       "    .dataframe tbody tr th:only-of-type {\n",
       "        vertical-align: middle;\n",
       "    }\n",
       "\n",
       "    .dataframe tbody tr th {\n",
       "        vertical-align: top;\n",
       "    }\n",
       "\n",
       "    .dataframe thead th {\n",
       "        text-align: right;\n",
       "    }\n",
       "</style>\n",
       "<table border=\"1\" class=\"dataframe\">\n",
       "  <thead>\n",
       "    <tr style=\"text-align: right;\">\n",
       "      <th></th>\n",
       "      <th>date</th>\n",
       "      <th>pm25_microdust</th>\n",
       "      <th>pm10</th>\n",
       "      <th>o3</th>\n",
       "      <th>no2</th>\n",
       "      <th>so2</th>\n",
       "      <th>co</th>\n",
       "    </tr>\n",
       "  </thead>\n",
       "  <tbody>\n",
       "    <tr>\n",
       "      <th>234</th>\n",
       "      <td>2015/08/25</td>\n",
       "      <td>47.0</td>\n",
       "      <td>31</td>\n",
       "      <td>32</td>\n",
       "      <td>27</td>\n",
       "      <td>11</td>\n",
       "      <td>5</td>\n",
       "    </tr>\n",
       "    <tr>\n",
       "      <th>919</th>\n",
       "      <td>2017/08/02</td>\n",
       "      <td>49.0</td>\n",
       "      <td>na</td>\n",
       "      <td>na</td>\n",
       "      <td>na</td>\n",
       "      <td>na</td>\n",
       "      <td>na</td>\n",
       "    </tr>\n",
       "    <tr>\n",
       "      <th>921</th>\n",
       "      <td>2017/08/07</td>\n",
       "      <td>46.0</td>\n",
       "      <td>43</td>\n",
       "      <td>43</td>\n",
       "      <td>46</td>\n",
       "      <td>14</td>\n",
       "      <td>6</td>\n",
       "    </tr>\n",
       "    <tr>\n",
       "      <th>924</th>\n",
       "      <td>2017/08/10</td>\n",
       "      <td>40.0</td>\n",
       "      <td>na</td>\n",
       "      <td>na</td>\n",
       "      <td>na</td>\n",
       "      <td>na</td>\n",
       "      <td>na</td>\n",
       "    </tr>\n",
       "    <tr>\n",
       "      <th>1214</th>\n",
       "      <td>2018/07/03</td>\n",
       "      <td>42.0</td>\n",
       "      <td>36</td>\n",
       "      <td>34</td>\n",
       "      <td>22</td>\n",
       "      <td>14</td>\n",
       "      <td>6</td>\n",
       "    </tr>\n",
       "    <tr>\n",
       "      <th>...</th>\n",
       "      <td>...</td>\n",
       "      <td>...</td>\n",
       "      <td>...</td>\n",
       "      <td>...</td>\n",
       "      <td>...</td>\n",
       "      <td>...</td>\n",
       "      <td>...</td>\n",
       "    </tr>\n",
       "    <tr>\n",
       "      <th>2822</th>\n",
       "      <td>2022/11/30</td>\n",
       "      <td>47.0</td>\n",
       "      <td>22</td>\n",
       "      <td>28</td>\n",
       "      <td>18</td>\n",
       "      <td>4</td>\n",
       "      <td>3</td>\n",
       "    </tr>\n",
       "    <tr>\n",
       "      <th>2823</th>\n",
       "      <td>2022/12/01</td>\n",
       "      <td>48.0</td>\n",
       "      <td>27</td>\n",
       "      <td>25</td>\n",
       "      <td>26</td>\n",
       "      <td>2</td>\n",
       "      <td>3</td>\n",
       "    </tr>\n",
       "    <tr>\n",
       "      <th>2826</th>\n",
       "      <td>2022/12/04</td>\n",
       "      <td>45.0</td>\n",
       "      <td>28</td>\n",
       "      <td>23</td>\n",
       "      <td>20</td>\n",
       "      <td>4</td>\n",
       "      <td>2</td>\n",
       "    </tr>\n",
       "    <tr>\n",
       "      <th>2827</th>\n",
       "      <td>2022/12/05</td>\n",
       "      <td>30.0</td>\n",
       "      <td>41</td>\n",
       "      <td>27</td>\n",
       "      <td>27</td>\n",
       "      <td>5</td>\n",
       "      <td>3</td>\n",
       "    </tr>\n",
       "    <tr>\n",
       "      <th>2839</th>\n",
       "      <td>2022/12/17</td>\n",
       "      <td>49.0</td>\n",
       "      <td>18</td>\n",
       "      <td>26</td>\n",
       "      <td>15</td>\n",
       "      <td>3</td>\n",
       "      <td>2</td>\n",
       "    </tr>\n",
       "  </tbody>\n",
       "</table>\n",
       "<p>198 rows × 7 columns</p>\n",
       "</div>"
      ],
      "text/plain": [
       "            date  pm25_microdust pm10  o3 no2 so2  co\n",
       "234   2015/08/25            47.0   31  32  27  11   5\n",
       "919   2017/08/02            49.0   na  na  na  na  na\n",
       "921   2017/08/07            46.0   43  43  46  14   6\n",
       "924   2017/08/10            40.0   na  na  na  na  na\n",
       "1214  2018/07/03            42.0   36  34  22  14   6\n",
       "...          ...             ...  ...  ..  ..  ..  ..\n",
       "2822  2022/11/30            47.0   22  28  18   4   3\n",
       "2823  2022/12/01            48.0   27  25  26   2   3\n",
       "2826  2022/12/04            45.0   28  23  20   4   2\n",
       "2827  2022/12/05            30.0   41  27  27   5   3\n",
       "2839  2022/12/17            49.0   18  26  15   3   2\n",
       "\n",
       "[198 rows x 7 columns]"
      ]
     },
     "execution_count": 100,
     "metadata": {},
     "output_type": "execute_result"
    }
   ],
   "source": [
    "data[data['pm25_microdust']<50]"
   ]
  },
  {
   "cell_type": "code",
   "execution_count": null,
   "id": "1eaa3c47-cca3-4b15-aec9-b1d1697314df",
   "metadata": {},
   "outputs": [],
   "source": []
  }
 ],
 "metadata": {
  "kernelspec": {
   "display_name": "Python 3 (ipykernel)",
   "language": "python",
   "name": "python3"
  },
  "language_info": {
   "codemirror_mode": {
    "name": "ipython",
    "version": 3
   },
   "file_extension": ".py",
   "mimetype": "text/x-python",
   "name": "python",
   "nbconvert_exporter": "python",
   "pygments_lexer": "ipython3",
   "version": "3.10.9"
  }
 },
 "nbformat": 4,
 "nbformat_minor": 5
}
