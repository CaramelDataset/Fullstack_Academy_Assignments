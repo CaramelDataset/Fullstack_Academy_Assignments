{
 "cells": [
  {
   "cell_type": "markdown",
   "id": "dd41d6a5-c943-44ad-9999-a1d4a403b604",
   "metadata": {},
   "source": [
    "# A Short but Sweet, Tongue in Cheek Analysis"
   ]
  },
  {
   "cell_type": "markdown",
   "id": "716a78ff-f8d0-431f-a9b9-18a7c0113c38",
   "metadata": {},
   "source": [
    "## Import the data file"
   ]
  },
  {
   "cell_type": "code",
   "execution_count": 1,
   "id": "0aeb042c-2fe9-4e93-8d50-72f6b7153c63",
   "metadata": {},
   "outputs": [],
   "source": [
    "import pandas as pd"
   ]
  },
  {
   "cell_type": "code",
   "execution_count": 2,
   "id": "8e9d94b3-1e15-48c5-a942-585baa46e59f",
   "metadata": {},
   "outputs": [],
   "source": [
    "cc = pd.read_csv('countries_clean.csv')\n"
   ]
  },
  {
   "cell_type": "markdown",
   "id": "645959ef-199a-450d-a099-f948c2ee5215",
   "metadata": {},
   "source": [
    "## Is the data clean?"
   ]
  },
  {
   "cell_type": "code",
   "execution_count": 3,
   "id": "f844c655-770b-4774-bea3-51f0eec7c518",
   "metadata": {},
   "outputs": [
    {
     "data": {
      "text/html": [
       "<div>\n",
       "<style scoped>\n",
       "    .dataframe tbody tr th:only-of-type {\n",
       "        vertical-align: middle;\n",
       "    }\n",
       "\n",
       "    .dataframe tbody tr th {\n",
       "        vertical-align: top;\n",
       "    }\n",
       "\n",
       "    .dataframe thead th {\n",
       "        text-align: right;\n",
       "    }\n",
       "</style>\n",
       "<table border=\"1\" class=\"dataframe\">\n",
       "  <thead>\n",
       "    <tr style=\"text-align: right;\">\n",
       "      <th></th>\n",
       "      <th>Unnamed: 0</th>\n",
       "      <th>Country</th>\n",
       "      <th>Region</th>\n",
       "      <th>Population</th>\n",
       "      <th>Area (sq. mi.)</th>\n",
       "      <th>Pop. Density (per sq. mi.)</th>\n",
       "      <th>Coastline (coast/area ratio)</th>\n",
       "      <th>Net migration</th>\n",
       "      <th>Infant mortality (per 1000 births)</th>\n",
       "      <th>GDP ($ per capita)</th>\n",
       "      <th>Literacy (%)</th>\n",
       "      <th>Phones (per 1000)</th>\n",
       "      <th>Birthrate</th>\n",
       "      <th>Deathrate</th>\n",
       "    </tr>\n",
       "  </thead>\n",
       "  <tbody>\n",
       "    <tr>\n",
       "      <th>0</th>\n",
       "      <td>0</td>\n",
       "      <td>Afghanistan</td>\n",
       "      <td>Asia (Ex. Near East)</td>\n",
       "      <td>31056997</td>\n",
       "      <td>647500</td>\n",
       "      <td>48.0</td>\n",
       "      <td>0.00</td>\n",
       "      <td>23.06</td>\n",
       "      <td>163.07</td>\n",
       "      <td>700.0</td>\n",
       "      <td>36.0</td>\n",
       "      <td>3.2</td>\n",
       "      <td>46.60</td>\n",
       "      <td>20.34</td>\n",
       "    </tr>\n",
       "    <tr>\n",
       "      <th>1</th>\n",
       "      <td>1</td>\n",
       "      <td>Albania</td>\n",
       "      <td>Eastern Europe</td>\n",
       "      <td>3581655</td>\n",
       "      <td>28748</td>\n",
       "      <td>124.6</td>\n",
       "      <td>1.26</td>\n",
       "      <td>-4.93</td>\n",
       "      <td>21.52</td>\n",
       "      <td>4500.0</td>\n",
       "      <td>86.5</td>\n",
       "      <td>71.2</td>\n",
       "      <td>15.11</td>\n",
       "      <td>5.22</td>\n",
       "    </tr>\n",
       "    <tr>\n",
       "      <th>2</th>\n",
       "      <td>2</td>\n",
       "      <td>Algeria</td>\n",
       "      <td>Northern Africa</td>\n",
       "      <td>32930091</td>\n",
       "      <td>2381740</td>\n",
       "      <td>13.8</td>\n",
       "      <td>0.04</td>\n",
       "      <td>-0.39</td>\n",
       "      <td>31.00</td>\n",
       "      <td>6000.0</td>\n",
       "      <td>70.0</td>\n",
       "      <td>78.1</td>\n",
       "      <td>17.14</td>\n",
       "      <td>4.61</td>\n",
       "    </tr>\n",
       "    <tr>\n",
       "      <th>3</th>\n",
       "      <td>3</td>\n",
       "      <td>American Samoa</td>\n",
       "      <td>Oceania</td>\n",
       "      <td>57794</td>\n",
       "      <td>199</td>\n",
       "      <td>290.4</td>\n",
       "      <td>58.29</td>\n",
       "      <td>-20.71</td>\n",
       "      <td>9.27</td>\n",
       "      <td>8000.0</td>\n",
       "      <td>97.0</td>\n",
       "      <td>259.5</td>\n",
       "      <td>22.46</td>\n",
       "      <td>3.27</td>\n",
       "    </tr>\n",
       "    <tr>\n",
       "      <th>4</th>\n",
       "      <td>4</td>\n",
       "      <td>Andorra</td>\n",
       "      <td>Western Europe</td>\n",
       "      <td>71201</td>\n",
       "      <td>468</td>\n",
       "      <td>152.1</td>\n",
       "      <td>0.00</td>\n",
       "      <td>6.60</td>\n",
       "      <td>4.05</td>\n",
       "      <td>19000.0</td>\n",
       "      <td>100.0</td>\n",
       "      <td>497.2</td>\n",
       "      <td>8.71</td>\n",
       "      <td>6.25</td>\n",
       "    </tr>\n",
       "  </tbody>\n",
       "</table>\n",
       "</div>"
      ],
      "text/plain": [
       "   Unnamed: 0          Country                               Region  \\\n",
       "0           0     Afghanistan         Asia (Ex. Near East)            \n",
       "1           1         Albania   Eastern Europe                        \n",
       "2           2         Algeria   Northern Africa                       \n",
       "3           3  American Samoa   Oceania                               \n",
       "4           4         Andorra   Western Europe                        \n",
       "\n",
       "   Population  Area (sq. mi.)  Pop. Density (per sq. mi.)  \\\n",
       "0    31056997          647500                        48.0   \n",
       "1     3581655           28748                       124.6   \n",
       "2    32930091         2381740                        13.8   \n",
       "3       57794             199                       290.4   \n",
       "4       71201             468                       152.1   \n",
       "\n",
       "   Coastline (coast/area ratio)  Net migration  \\\n",
       "0                          0.00          23.06   \n",
       "1                          1.26          -4.93   \n",
       "2                          0.04          -0.39   \n",
       "3                         58.29         -20.71   \n",
       "4                          0.00           6.60   \n",
       "\n",
       "   Infant mortality (per 1000 births)  GDP ($ per capita)  Literacy (%)  \\\n",
       "0                              163.07               700.0          36.0   \n",
       "1                               21.52              4500.0          86.5   \n",
       "2                               31.00              6000.0          70.0   \n",
       "3                                9.27              8000.0          97.0   \n",
       "4                                4.05             19000.0         100.0   \n",
       "\n",
       "   Phones (per 1000)  Birthrate  Deathrate  \n",
       "0                3.2      46.60      20.34  \n",
       "1               71.2      15.11       5.22  \n",
       "2               78.1      17.14       4.61  \n",
       "3              259.5      22.46       3.27  \n",
       "4              497.2       8.71       6.25  "
      ]
     },
     "execution_count": 3,
     "metadata": {},
     "output_type": "execute_result"
    }
   ],
   "source": [
    "cc.head()"
   ]
  },
  {
   "cell_type": "code",
   "execution_count": 4,
   "id": "55e74792-6081-4877-af08-0b3642239bad",
   "metadata": {},
   "outputs": [
    {
     "data": {
      "text/plain": [
       "(227, 14)"
      ]
     },
     "execution_count": 4,
     "metadata": {},
     "output_type": "execute_result"
    }
   ],
   "source": [
    "cc.shape"
   ]
  },
  {
   "cell_type": "code",
   "execution_count": 6,
   "id": "7f308dfe-8744-4e97-9d9b-97bb2efefc78",
   "metadata": {},
   "outputs": [
    {
     "data": {
      "text/plain": [
       "Unnamed: 0                              int64\n",
       "Country                                object\n",
       "Region                                 object\n",
       "Population                              int64\n",
       "Area (sq. mi.)                          int64\n",
       "Pop. Density (per sq. mi.)            float64\n",
       "Coastline (coast/area ratio)          float64\n",
       "Net migration                         float64\n",
       "Infant mortality (per 1000 births)    float64\n",
       "GDP ($ per capita)                    float64\n",
       "Literacy (%)                          float64\n",
       "Phones (per 1000)                     float64\n",
       "Birthrate                             float64\n",
       "Deathrate                             float64\n",
       "dtype: object"
      ]
     },
     "execution_count": 5,
     "metadata": {},
     "output_type": "execute_result"
    }
   ],
   "source": [
    "cc.dtypes\n",
    "#data types look proper"
   ]
  },
  {
   "cell_type": "code",
   "execution_count": 20,
   "id": "20fefc67-ab54-46d5-a510-0ffd9ce33ec0",
   "metadata": {},
   "outputs": [
    {
     "data": {
      "text/plain": [
       "Unnamed: 0                            0\n",
       "Country                               0\n",
       "Region                                0\n",
       "Population                            0\n",
       "Area (sq. mi.)                        0\n",
       "Pop. Density (per sq. mi.)            0\n",
       "Coastline (coast/area ratio)          0\n",
       "Net migration                         0\n",
       "Infant mortality (per 1000 births)    0\n",
       "GDP ($ per capita)                    0\n",
       "Literacy (%)                          0\n",
       "Phones (per 1000)                     0\n",
       "Birthrate                             0\n",
       "Deathrate                             0\n",
       "dtype: int64"
      ]
     },
     "execution_count": 20,
     "metadata": {},
     "output_type": "execute_result"
    }
   ],
   "source": [
    "cc.isnull().sum()"
   ]
  },
  {
   "cell_type": "markdown",
   "id": "23d82388-8b92-457d-b3c4-c9b1d73493bf",
   "metadata": {},
   "source": [
    "## The data is super clean! Let's get to it then..."
   ]
  },
  {
   "cell_type": "markdown",
   "id": "9026d59a-3975-4bde-b51e-da64591a4cc2",
   "metadata": {},
   "source": [
    "## Hmm... which data subset should be analyzed?"
   ]
  },
  {
   "cell_type": "code",
   "execution_count": 74,
   "id": "0ca6e767-f123-496f-96ef-620bb2f62d30",
   "metadata": {},
   "outputs": [
    {
     "data": {
      "text/plain": [
       "Index(['Unnamed: 0', 'Country', 'Region', 'Population', 'Area (sq. mi.)',\n",
       "       'Pop. Density (per sq. mi.)', 'Coastline (coast/area ratio)',\n",
       "       'Net migration', 'Infant mortality (per 1000 births)',\n",
       "       'GDP ($ per capita)', 'Literacy (%)', 'Phones (per 1000)', 'Birthrate',\n",
       "       'Deathrate'],\n",
       "      dtype='object')"
      ]
     },
     "execution_count": 7,
     "metadata": {},
     "output_type": "execute_result"
    }
   ],
   "source": [
    "cc.columns"
   ]
  },
  {
   "cell_type": "markdown",
   "id": "865a6532-cb06-44c4-be0b-3387c896d1e6",
   "metadata": {},
   "source": [
    "## I'll explore the top 5 most populous countries!"
   ]
  },
  {
   "cell_type": "code",
   "execution_count": 25,
   "id": "cdffc258-b08a-466a-8cf3-28239338112a",
   "metadata": {},
   "outputs": [],
   "source": [
    "cc_pop = cc.sort_values(by='Population',ascending=False).head(5)\n",
    "cc_pop = cc_pop.reset_index (drop=True)\n",
    "\n",
    "#thank you Kharmalina Gasolina!"
   ]
  },
  {
   "cell_type": "code",
   "execution_count": 70,
   "id": "024c2183-2dc8-4498-b6d8-86d9d3cd1741",
   "metadata": {},
   "outputs": [
    {
     "data": {
      "text/html": [
       "<div>\n",
       "<style scoped>\n",
       "    .dataframe tbody tr th:only-of-type {\n",
       "        vertical-align: middle;\n",
       "    }\n",
       "\n",
       "    .dataframe tbody tr th {\n",
       "        vertical-align: top;\n",
       "    }\n",
       "\n",
       "    .dataframe thead th {\n",
       "        text-align: right;\n",
       "    }\n",
       "</style>\n",
       "<table border=\"1\" class=\"dataframe\">\n",
       "  <thead>\n",
       "    <tr style=\"text-align: right;\">\n",
       "      <th></th>\n",
       "      <th>Unnamed: 0</th>\n",
       "      <th>Country</th>\n",
       "      <th>Region</th>\n",
       "      <th>Population</th>\n",
       "      <th>Area (sq. mi.)</th>\n",
       "      <th>Pop. Density (per sq. mi.)</th>\n",
       "      <th>Coastline (coast/area ratio)</th>\n",
       "      <th>Net migration</th>\n",
       "      <th>Infant mortality (per 1000 births)</th>\n",
       "      <th>GDP ($ per capita)</th>\n",
       "      <th>Literacy (%)</th>\n",
       "      <th>Phones (per 1000)</th>\n",
       "      <th>Birthrate</th>\n",
       "      <th>Deathrate</th>\n",
       "    </tr>\n",
       "  </thead>\n",
       "  <tbody>\n",
       "    <tr>\n",
       "      <th>0</th>\n",
       "      <td>42</td>\n",
       "      <td>China</td>\n",
       "      <td>Asia (Ex. Near East)</td>\n",
       "      <td>1313973713</td>\n",
       "      <td>9596960</td>\n",
       "      <td>136.9</td>\n",
       "      <td>0.15</td>\n",
       "      <td>-0.40</td>\n",
       "      <td>24.18</td>\n",
       "      <td>5000.0</td>\n",
       "      <td>90.9</td>\n",
       "      <td>266.7</td>\n",
       "      <td>13.25</td>\n",
       "      <td>6.97</td>\n",
       "    </tr>\n",
       "    <tr>\n",
       "      <th>1</th>\n",
       "      <td>94</td>\n",
       "      <td>India</td>\n",
       "      <td>Asia (Ex. Near East)</td>\n",
       "      <td>1095351995</td>\n",
       "      <td>3287590</td>\n",
       "      <td>333.2</td>\n",
       "      <td>0.21</td>\n",
       "      <td>-0.07</td>\n",
       "      <td>56.29</td>\n",
       "      <td>2900.0</td>\n",
       "      <td>59.5</td>\n",
       "      <td>45.4</td>\n",
       "      <td>22.01</td>\n",
       "      <td>8.18</td>\n",
       "    </tr>\n",
       "    <tr>\n",
       "      <th>2</th>\n",
       "      <td>214</td>\n",
       "      <td>United States</td>\n",
       "      <td>Northern America</td>\n",
       "      <td>298444215</td>\n",
       "      <td>9631420</td>\n",
       "      <td>31.0</td>\n",
       "      <td>0.21</td>\n",
       "      <td>3.41</td>\n",
       "      <td>6.50</td>\n",
       "      <td>37800.0</td>\n",
       "      <td>97.0</td>\n",
       "      <td>898.0</td>\n",
       "      <td>14.14</td>\n",
       "      <td>8.26</td>\n",
       "    </tr>\n",
       "    <tr>\n",
       "      <th>3</th>\n",
       "      <td>95</td>\n",
       "      <td>Indonesia</td>\n",
       "      <td>Asia (Ex. Near East)</td>\n",
       "      <td>245452739</td>\n",
       "      <td>1919440</td>\n",
       "      <td>127.9</td>\n",
       "      <td>2.85</td>\n",
       "      <td>0.00</td>\n",
       "      <td>35.60</td>\n",
       "      <td>3200.0</td>\n",
       "      <td>87.9</td>\n",
       "      <td>52.0</td>\n",
       "      <td>20.34</td>\n",
       "      <td>6.25</td>\n",
       "    </tr>\n",
       "    <tr>\n",
       "      <th>4</th>\n",
       "      <td>27</td>\n",
       "      <td>Brazil</td>\n",
       "      <td>Latin Amer. &amp; Carib</td>\n",
       "      <td>188078227</td>\n",
       "      <td>8511965</td>\n",
       "      <td>22.1</td>\n",
       "      <td>0.09</td>\n",
       "      <td>-0.03</td>\n",
       "      <td>29.61</td>\n",
       "      <td>7600.0</td>\n",
       "      <td>86.4</td>\n",
       "      <td>225.3</td>\n",
       "      <td>16.56</td>\n",
       "      <td>6.17</td>\n",
       "    </tr>\n",
       "  </tbody>\n",
       "</table>\n",
       "</div>"
      ],
      "text/plain": [
       "   Unnamed: 0         Country                               Region  \\\n",
       "0          42          China         Asia (Ex. Near East)            \n",
       "1          94          India         Asia (Ex. Near East)            \n",
       "2         214  United States   Northern America                      \n",
       "3          95      Indonesia         Asia (Ex. Near East)            \n",
       "4          27         Brazil               Latin Amer. & Carib       \n",
       "\n",
       "   Population  Area (sq. mi.)  Pop. Density (per sq. mi.)  \\\n",
       "0  1313973713         9596960                       136.9   \n",
       "1  1095351995         3287590                       333.2   \n",
       "2   298444215         9631420                        31.0   \n",
       "3   245452739         1919440                       127.9   \n",
       "4   188078227         8511965                        22.1   \n",
       "\n",
       "   Coastline (coast/area ratio)  Net migration  \\\n",
       "0                          0.15          -0.40   \n",
       "1                          0.21          -0.07   \n",
       "2                          0.21           3.41   \n",
       "3                          2.85           0.00   \n",
       "4                          0.09          -0.03   \n",
       "\n",
       "   Infant mortality (per 1000 births)  GDP ($ per capita)  Literacy (%)  \\\n",
       "0                               24.18              5000.0          90.9   \n",
       "1                               56.29              2900.0          59.5   \n",
       "2                                6.50             37800.0          97.0   \n",
       "3                               35.60              3200.0          87.9   \n",
       "4                               29.61              7600.0          86.4   \n",
       "\n",
       "   Phones (per 1000)  Birthrate  Deathrate  \n",
       "0              266.7      13.25       6.97  \n",
       "1               45.4      22.01       8.18  \n",
       "2              898.0      14.14       8.26  \n",
       "3               52.0      20.34       6.25  \n",
       "4              225.3      16.56       6.17  "
      ]
     },
     "execution_count": 9,
     "metadata": {},
     "output_type": "execute_result"
    }
   ],
   "source": [
    "cc_pop"
   ]
  },
  {
   "cell_type": "markdown",
   "id": "e9a73255-d451-450c-a0f6-dc38010933db",
   "metadata": {},
   "source": [
    "## I want to see AREA SIZE, POPULATION DENSITY, and GDP."
   ]
  },
  {
   "cell_type": "markdown",
   "id": "0eb3b01a-bc33-4b7d-9b65-32605d25cd05",
   "metadata": {},
   "source": [
    "## Time to Visualize!"
   ]
  },
  {
   "cell_type": "code",
   "execution_count": 18,
   "id": "e0356189-a41e-4511-b864-8005b7e86507",
   "metadata": {},
   "outputs": [],
   "source": [
    "import matplotlib.pyplot as plt"
   ]
  },
  {
   "cell_type": "markdown",
   "id": "de30933d-ea5d-4617-a510-bb083d30f278",
   "metadata": {},
   "source": [
    "## AREA SIZE"
   ]
  },
  {
   "cell_type": "code",
   "execution_count": 19,
   "id": "7f00e447-cc4e-49d0-9a78-6a0983a80524",
   "metadata": {},
   "outputs": [
    {
     "data": {
      "text/plain": [
       "Text(0.5, 1.0, 'Top 5 Most Populous Countries - Area Size')"
      ]
     },
     "execution_count": 19,
     "metadata": {},
     "output_type": "execute_result"
    },
    {
     "data": {
      "image/png": "[encoded data removed]",
      "text/plain": [
       "<Figure size 1000x300 with 1 Axes>"
      ]
     },
     "metadata": {},
     "output_type": "display_data"
    }
   ],
   "source": [
    "plt.figure(figsize=(10,3))\n",
    "plt.bar(cc_pop['Country'], cc_pop['Area (sq. mi.)'], color='c')\n",
    "plt.xlabel('Country Name')\n",
    "plt.ylabel('Area Size')\n",
    "plt.title('Top 5 Most Populous Countries - Area Size')\n",
    "\n",
    "#the numbers don't look pretty"
   ]
  },
  {
   "cell_type": "markdown",
   "id": "b1726a1a-6b4a-4ea4-b91a-5b5048e63d04",
   "metadata": {},
   "source": [
    "### Looking at Indonesia and India you can observe that the most populous countries do not necessarily have to be the largest by area size."
   ]
  },
  {
   "cell_type": "markdown",
   "id": "53230806-6075-4e7d-bc1d-dbc6da0886c6",
   "metadata": {},
   "source": [
    "## POPULATION DENSITY"
   ]
  },
  {
   "cell_type": "code",
   "execution_count": 18,
   "id": "cd5c369c-11dc-4705-afd0-561bff4bdb7f",
   "metadata": {},
   "outputs": [
    {
     "data": {
      "text/plain": [
       "Text(0.5, 1.0, 'Top 5 Most Populous Countries - Population Density')"
      ]
     },
     "execution_count": 18,
     "metadata": {},
     "output_type": "execute_result"
    },
    {
     "data": {
      "image/png": "[encoded data removed]",
      "text/plain": [
       "<Figure size 1000x300 with 1 Axes>"
      ]
     },
     "metadata": {},
     "output_type": "display_data"
    }
   ],
   "source": [
    "plt.figure(figsize=(10,3))\n",
    "plt.scatter(cc_pop['Country'], cc_pop['Pop. Density (per sq. mi.)'], color='b')\n",
    "plt.xlabel('Country Name')\n",
    "plt.ylabel('Population Density')\n",
    "plt.title('Top 5 Most Populous Countries - Population Density')"
   ]
  },
  {
   "cell_type": "markdown",
   "id": "6d6c1876-21af-487b-b2a5-71d868dab6b5",
   "metadata": {},
   "source": [
    "### It makes sense that the two countries (India and Indonesia) with the smaller area size have the much higher population densities.On the flip side, the countries with a larger area size has their population more spread out."
   ]
  },
  {
   "cell_type": "markdown",
   "id": "486bfedf-777a-4ab2-9055-90f11083af7d",
   "metadata": {},
   "source": [
    "## GDP"
   ]
  },
  {
   "cell_type": "code",
   "execution_count": 73,
   "id": "bd77ae3a-2891-441e-a253-e40ddca29d54",
   "metadata": {},
   "outputs": [
    {
     "data": {
      "text/plain": [
       "Text(0.5, 1.0, 'Top 5 Most Populous Countries - GDP')"
      ]
     },
     "execution_count": 13,
     "metadata": {},
     "output_type": "execute_result"
    },
    {
     "data": {
      "image/png": "[encoded data removed]",
      "text/plain": [
       "<Figure size 1000x300 with 1 Axes>"
      ]
     },
     "metadata": {},
     "output_type": "display_data"
    }
   ],
   "source": [
    "plt.figure(figsize=(10,3))\n",
    "plt.plot(cc_pop['Country'], cc_pop['GDP ($ per capita)'], color='g')\n",
    "plt.xlabel('Country Name')\n",
    "plt.ylabel('GDP')\n",
    "plt.title('Top 5 Most Populous Countries - GDP')"
   ]
  },
  {
   "cell_type": "markdown",
   "id": "1c603193-c140-4078-b557-5613d9ac56e3",
   "metadata": {},
   "source": [
    "### Daaaang 'Murrica! "
   ]
  },
  {
   "cell_type": "markdown",
   "id": "3931c73b-7033-45e8-8b77-2f2fa0dc6cd0",
   "metadata": {},
   "source": [
    "### Well I guess the old convention is true when it comes to GDP."
   ]
  },
  {
   "cell_type": "markdown",
   "id": "54beae72-b908-4d1e-b973-e23db898e96f",
   "metadata": {},
   "source": [
    "### Size doesn't matter! (Insert moon face emoji)"
   ]
  },
  {
   "cell_type": "markdown",
   "id": "57edb563-e402-465c-a5c4-03a6595fbb25",
   "metadata": {},
   "source": [
    "### Well, now I am curious about the countries with the top GDP compared to the population size."
   ]
  },
  {
   "cell_type": "markdown",
   "id": "3fc19c01-6c71-47a4-809b-907e43bbcd75",
   "metadata": {},
   "source": [
    "## TOP 5 GDP "
   ]
  },
  {
   "cell_type": "code",
   "execution_count": 23,
   "id": "ec4b73cf-6305-4ba9-b425-91cb5c15e725",
   "metadata": {},
   "outputs": [
    {
     "data": {
      "text/html": [
       "<div>\n",
       "<style scoped>\n",
       "    .dataframe tbody tr th:only-of-type {\n",
       "        vertical-align: middle;\n",
       "    }\n",
       "\n",
       "    .dataframe tbody tr th {\n",
       "        vertical-align: top;\n",
       "    }\n",
       "\n",
       "    .dataframe thead th {\n",
       "        text-align: right;\n",
       "    }\n",
       "</style>\n",
       "<table border=\"1\" class=\"dataframe\">\n",
       "  <thead>\n",
       "    <tr style=\"text-align: right;\">\n",
       "      <th></th>\n",
       "      <th>Unnamed: 0</th>\n",
       "      <th>Country</th>\n",
       "      <th>Region</th>\n",
       "      <th>Population</th>\n",
       "      <th>Area (sq. mi.)</th>\n",
       "      <th>Pop. Density (per sq. mi.)</th>\n",
       "      <th>Coastline (coast/area ratio)</th>\n",
       "      <th>Net migration</th>\n",
       "      <th>Infant mortality (per 1000 births)</th>\n",
       "      <th>GDP ($ per capita)</th>\n",
       "      <th>Literacy (%)</th>\n",
       "      <th>Phones (per 1000)</th>\n",
       "      <th>Birthrate</th>\n",
       "      <th>Deathrate</th>\n",
       "    </tr>\n",
       "  </thead>\n",
       "  <tbody>\n",
       "    <tr>\n",
       "      <th>0</th>\n",
       "      <td>121</td>\n",
       "      <td>Luxembourg</td>\n",
       "      <td>Western Europe</td>\n",
       "      <td>474413</td>\n",
       "      <td>2586</td>\n",
       "      <td>183.5</td>\n",
       "      <td>0.00</td>\n",
       "      <td>8.97</td>\n",
       "      <td>4.81</td>\n",
       "      <td>55100.0</td>\n",
       "      <td>100.0</td>\n",
       "      <td>515.4</td>\n",
       "      <td>11.94</td>\n",
       "      <td>8.41</td>\n",
       "    </tr>\n",
       "    <tr>\n",
       "      <th>1</th>\n",
       "      <td>154</td>\n",
       "      <td>Norway</td>\n",
       "      <td>Western Europe</td>\n",
       "      <td>4610820</td>\n",
       "      <td>323802</td>\n",
       "      <td>14.2</td>\n",
       "      <td>7.77</td>\n",
       "      <td>1.74</td>\n",
       "      <td>3.70</td>\n",
       "      <td>37800.0</td>\n",
       "      <td>100.0</td>\n",
       "      <td>461.7</td>\n",
       "      <td>11.46</td>\n",
       "      <td>9.40</td>\n",
       "    </tr>\n",
       "    <tr>\n",
       "      <th>2</th>\n",
       "      <td>214</td>\n",
       "      <td>United States</td>\n",
       "      <td>Northern America</td>\n",
       "      <td>298444215</td>\n",
       "      <td>9631420</td>\n",
       "      <td>31.0</td>\n",
       "      <td>0.21</td>\n",
       "      <td>3.41</td>\n",
       "      <td>6.50</td>\n",
       "      <td>37800.0</td>\n",
       "      <td>97.0</td>\n",
       "      <td>898.0</td>\n",
       "      <td>14.14</td>\n",
       "      <td>8.26</td>\n",
       "    </tr>\n",
       "    <tr>\n",
       "      <th>3</th>\n",
       "      <td>22</td>\n",
       "      <td>Bermuda</td>\n",
       "      <td>Northern America</td>\n",
       "      <td>65773</td>\n",
       "      <td>53</td>\n",
       "      <td>1241.0</td>\n",
       "      <td>194.34</td>\n",
       "      <td>2.49</td>\n",
       "      <td>8.53</td>\n",
       "      <td>36000.0</td>\n",
       "      <td>98.0</td>\n",
       "      <td>851.4</td>\n",
       "      <td>11.40</td>\n",
       "      <td>7.74</td>\n",
       "    </tr>\n",
       "    <tr>\n",
       "      <th>4</th>\n",
       "      <td>38</td>\n",
       "      <td>Cayman Islands</td>\n",
       "      <td>Latin Amer. &amp; Carib</td>\n",
       "      <td>45436</td>\n",
       "      <td>262</td>\n",
       "      <td>173.4</td>\n",
       "      <td>61.07</td>\n",
       "      <td>18.75</td>\n",
       "      <td>8.19</td>\n",
       "      <td>35000.0</td>\n",
       "      <td>98.0</td>\n",
       "      <td>836.3</td>\n",
       "      <td>12.74</td>\n",
       "      <td>4.89</td>\n",
       "    </tr>\n",
       "  </tbody>\n",
       "</table>\n",
       "</div>"
      ],
      "text/plain": [
       "   Unnamed: 0          Country                               Region  \\\n",
       "0         121      Luxembourg   Western Europe                        \n",
       "1         154          Norway   Western Europe                        \n",
       "2         214   United States   Northern America                      \n",
       "3          22         Bermuda   Northern America                      \n",
       "4          38  Cayman Islands               Latin Amer. & Carib       \n",
       "\n",
       "   Population  Area (sq. mi.)  Pop. Density (per sq. mi.)  \\\n",
       "0      474413            2586                       183.5   \n",
       "1     4610820          323802                        14.2   \n",
       "2   298444215         9631420                        31.0   \n",
       "3       65773              53                      1241.0   \n",
       "4       45436             262                       173.4   \n",
       "\n",
       "   Coastline (coast/area ratio)  Net migration  \\\n",
       "0                          0.00           8.97   \n",
       "1                          7.77           1.74   \n",
       "2                          0.21           3.41   \n",
       "3                        194.34           2.49   \n",
       "4                         61.07          18.75   \n",
       "\n",
       "   Infant mortality (per 1000 births)  GDP ($ per capita)  Literacy (%)  \\\n",
       "0                                4.81             55100.0         100.0   \n",
       "1                                3.70             37800.0         100.0   \n",
       "2                                6.50             37800.0          97.0   \n",
       "3                                8.53             36000.0          98.0   \n",
       "4                                8.19             35000.0          98.0   \n",
       "\n",
       "   Phones (per 1000)  Birthrate  Deathrate  \n",
       "0              515.4      11.94       8.41  \n",
       "1              461.7      11.46       9.40  \n",
       "2              898.0      14.14       8.26  \n",
       "3              851.4      11.40       7.74  \n",
       "4              836.3      12.74       4.89  "
      ]
     },
     "execution_count": 23,
     "metadata": {},
     "output_type": "execute_result"
    }
   ],
   "source": [
    "cc_gdp = cc.sort_values(by='GDP ($ per capita)',ascending=False).head(5)\n",
    "cc_gdp = cc_gdp.reset_index (drop=True)\n",
    "cc_gdp"
   ]
  },
  {
   "cell_type": "code",
   "execution_count": 24,
   "id": "5fe5294f-d0cd-4da6-bdd3-94013a42a15b",
   "metadata": {},
   "outputs": [
    {
     "data": {
      "text/plain": [
       "Text(0.5, 1.0, 'Top 5 Richest Countries - Population')"
      ]
     },
     "execution_count": 24,
     "metadata": {},
     "output_type": "execute_result"
    },
    {
     "data": {
      "image/png": "[encoded data removed]",
      "text/plain": [
       "<Figure size 1000x300 with 1 Axes>"
      ]
     },
     "metadata": {},
     "output_type": "display_data"
    }
   ],
   "source": [
    "plt.figure(figsize=(10,3))\n",
    "plt.plot(cc_gdp['Country'], cc_gdp['Population'], color='g')\n",
    "plt.xlabel('Country Name')\n",
    "plt.ylabel('Population')\n",
    "plt.title('Top 5 Richest Countries - Population')"
   ]
  },
  {
   "cell_type": "markdown",
   "id": "2ada2a97-5498-4bd7-b03a-3f85b9b4c481",
   "metadata": {},
   "source": [
    "### Daaaang 'Murrica but Luxembourg is impressive for having such a small population! \n",
    "### The other countries: Norway, Bermuda, and Cayman Islands are well-known for being rich and why but I am not too educated on Luxembourg.\n",
    "### What makes Luxembourg so rich?\n",
    "### After doing a google search Luxembourg is also a tax haven like Bermuda and the Cayman islands, plus they have a thriving banking, steel, and industries sector. They attract a lot of foreign investment.\n",
    "### Insert 'The More You Know' rainbow."
   ]
  },
  {
   "cell_type": "markdown",
   "id": "bd73da81-2c56-4217-b1a7-0c0cd24fe6ec",
   "metadata": {},
   "source": [
    "## Thank you for coming to my TED Talk. :)"
   ]
  },
  {
   "cell_type": "code",
   "execution_count": null,
   "id": "38b02c5e-8602-4bed-9839-f4d0387ed4a7",
   "metadata": {},
   "outputs": [],
   "source": []
  }
 ],
 "metadata": {
  "kernelspec": {
   "display_name": "Python 3 (ipykernel)",
   "language": "python",
   "name": "python3"
  },
  "language_info": {
   "codemirror_mode": {
    "name": "ipython",
    "version": 3
   },
   "file_extension": ".py",
   "mimetype": "text/x-python",
   "name": "python",
   "nbconvert_exporter": "python",
   "pygments_lexer": "ipython3",
   "version": "3.10.9"
  }
 },
 "nbformat": 4,
 "nbformat_minor": 5
}
